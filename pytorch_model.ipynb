{
 "cells": [
  {
   "cell_type": "code",
   "execution_count": 1,
   "outputs": [],
   "source": [
    "from torch.utils.data import DataLoader\n",
    "import importlib\n",
    "import dnn_data_loader\n",
    "importlib.reload(dnn_data_loader)\n",
    "from dnn_data_loader import dnnDataset\n",
    "import dnn\n",
    "importlib.reload(dnn)\n",
    "from dnn import NetWrapper"
   ],
   "metadata": {
    "collapsed": false,
    "pycharm": {
     "name": "#%%\n"
    }
   }
  },
  {
   "cell_type": "code",
   "execution_count": null,
   "outputs": [],
   "source": [
    "print(f\"The parquet data files can be found at the following link: https://drive.google.com/drive/folders/1wOWHh9ItAZcvxrJFnWRrayEp_dfThkDM?usp=sharing\")\n",
    "print(f\"All rights reserved. Do not distribute without permission.\")\n",
    "print(f\"Links to the original data (GIS layers) can be found in the onesheet proposal.\")\n",
    "print(f\"Also available at the link are two .py files, necessary to run code in this notebook. Email aobeirne@uw.edu with any questions.\")"
   ],
   "metadata": {
    "collapsed": false,
    "pycharm": {
     "name": "#%%\n"
    }
   }
  },
  {
   "cell_type": "code",
   "execution_count": 2,
   "outputs": [
    {
     "name": "stdout",
     "output_type": "stream",
     "text": [
      "torch.Size([19472114, 37])\n",
      "torch.Size([19472114])\n"
     ]
    }
   ],
   "source": [
    "PyROW_dataset = dnnDataset()"
   ],
   "metadata": {
    "collapsed": false,
    "pycharm": {
     "name": "#%%\n"
    }
   }
  },
  {
   "cell_type": "code",
   "execution_count": 3,
   "outputs": [
    {
     "name": "stdout",
     "output_type": "stream",
     "text": [
      "\n",
      "Neural networking training with 20 epochs:\n",
      "Epoch 1  |████████████████████| 19472000/19472000   137.11s  Avg Loss: 0.1882\n",
      "Epoch 2  |████████████████████| 19472000/19472000   136.63s  Avg Loss: 0.1211\n",
      "Epoch 3  |████████████████████| 19472000/19472000   137.10s  Avg Loss: 0.0986\n",
      "Epoch 4  |████████████████████| 19472000/19472000   136.71s  Avg Loss: 0.0859\n",
      "Epoch 5  |████████████████████| 19472000/19472000   137.26s  Avg Loss: 0.0773\n",
      "Epoch 6  |████████████████████| 19472000/19472000   137.07s  Avg Loss: 0.0709\n",
      "Epoch 7  |████████████████████| 19472000/19472000   136.52s  Avg Loss: 0.0663\n",
      "Epoch 8  |████████████████████| 19472000/19472000   135.56s  Avg Loss: 0.0626\n",
      "Epoch 9  |████████████████████| 19472000/19472000   135.96s  Avg Loss: 0.0595\n",
      "Epoch 10 |████████████████████| 19472000/19472000   137.08s  Avg Loss: 0.0570\n",
      "Epoch 11 |████████████████████| 19472000/19472000   141.79s  Avg Loss: 0.0547\n",
      "Epoch 12 |████████████████████| 19472000/19472000   139.40s  Avg Loss: 0.0529\n",
      "Epoch 13 |████████████████████| 19472000/19472000   137.33s  Avg Loss: 0.0514\n",
      "Epoch 14 |████████████████████| 19472000/19472000   137.13s  Avg Loss: 0.0497\n",
      "Epoch 15 |████████████████████| 19472000/19472000   136.64s  Avg Loss: 0.0483\n",
      "Epoch 16 |████████████████████| 19472000/19472000   135.08s  Avg Loss: 0.0471\n",
      "Epoch 17 |████████████████████| 19472000/19472000   136.18s  Avg Loss: 0.0460\n",
      "Epoch 18 |████████████████████| 19472000/19472000   136.45s  Avg Loss: 0.0450\n",
      "Epoch 19 |████████████████████| 19472000/19472000   135.53s  Avg Loss: 0.0440\n",
      "Epoch 20 |████████████████████| 19472000/19472000   134.70s  Avg Loss: 0.0431\n",
      "972256/19472114 tests complete, 50.06% correct"
     ]
    },
    {
     "ename": "KeyboardInterrupt",
     "evalue": "",
     "output_type": "error",
     "traceback": [
      "\u001B[1;31m---------------------------------------------------------------------------\u001B[0m",
      "\u001B[1;31mKeyboardInterrupt\u001B[0m                         Traceback (most recent call last)",
      "Input \u001B[1;32mIn [3]\u001B[0m, in \u001B[0;36m<cell line: 5>\u001B[1;34m()\u001B[0m\n\u001B[0;32m      3\u001B[0m NN \u001B[38;5;241m=\u001B[39m NetWrapper()\n\u001B[0;32m      4\u001B[0m NN\u001B[38;5;241m.\u001B[39mlearn(PyROW_dataloder, batc_s\u001B[38;5;241m=\u001B[39m\u001B[38;5;241m1000\u001B[39m, learning_rate\u001B[38;5;241m=\u001B[39m\u001B[38;5;241m0.01\u001B[39m, momentum\u001B[38;5;241m=\u001B[39m\u001B[38;5;241m0.9\u001B[39m, n_epochs\u001B[38;5;241m=\u001B[39m\u001B[38;5;241m20\u001B[39m)\n\u001B[1;32m----> 5\u001B[0m test_error \u001B[38;5;241m=\u001B[39m \u001B[43mNN\u001B[49m\u001B[38;5;241;43m.\u001B[39;49m\u001B[43mtest\u001B[49m\u001B[43m(\u001B[49m\u001B[43mPyROW_tester\u001B[49m\u001B[43m)\u001B[49m\n",
      "File \u001B[1;32m~\\Documents\\DataSpell\\Final\\dnn.py:73\u001B[0m, in \u001B[0;36mNetWrapper.test\u001B[1;34m(self, test_loaded)\u001B[0m\n\u001B[0;32m     71\u001B[0m \u001B[38;5;28;01melse\u001B[39;00m:\n\u001B[0;32m     72\u001B[0m     net_out \u001B[38;5;241m=\u001B[39m \u001B[38;5;28mself\u001B[39m\u001B[38;5;241m.\u001B[39mnet(data)\n\u001B[1;32m---> 73\u001B[0m \u001B[38;5;28;01mif\u001B[39;00m \u001B[43mnp\u001B[49m\u001B[38;5;241;43m.\u001B[39;49m\u001B[43margmax\u001B[49m\u001B[43m(\u001B[49m\u001B[43mnet_out\u001B[49m\u001B[38;5;241;43m.\u001B[39;49m\u001B[43mcpu\u001B[49m\u001B[43m(\u001B[49m\u001B[43m)\u001B[49m\u001B[38;5;241;43m.\u001B[39;49m\u001B[43mdetach\u001B[49m\u001B[43m(\u001B[49m\u001B[43m)\u001B[49m\u001B[38;5;241;43m.\u001B[39;49m\u001B[43mnumpy\u001B[49m\u001B[43m(\u001B[49m\u001B[43m)\u001B[49m\u001B[43m)\u001B[49m\u001B[43m \u001B[49m\u001B[38;5;241;43m==\u001B[39;49m\u001B[43m \u001B[49m\u001B[43mtarget\u001B[49m\u001B[43m[\u001B[49m\u001B[38;5;241;43m0\u001B[39;49m\u001B[43m]\u001B[49m:\n\u001B[0;32m     74\u001B[0m     n_correct \u001B[38;5;241m+\u001B[39m\u001B[38;5;241m=\u001B[39m \u001B[38;5;241m1\u001B[39m\n\u001B[0;32m     75\u001B[0m \u001B[38;5;28;01melse\u001B[39;00m:\n",
      "\u001B[1;31mKeyboardInterrupt\u001B[0m: "
     ]
    }
   ],
   "source": [
    "PyROW_dataloder = DataLoader(PyROW_dataset, batch_size=1000, shuffle=True, drop_last=True)\n",
    "PyROW_tester = DataLoader(PyROW_dataset, batch_size=1, shuffle=True, drop_last=True)\n",
    "NN = NetWrapper()\n",
    "NN.learn(PyROW_dataloder, batc_s=1000, learning_rate=0.01, momentum=0.9, n_epochs=20)\n",
    "test_error = NN.test(PyROW_tester)"
   ],
   "metadata": {
    "collapsed": false,
    "pycharm": {
     "name": "#%%\n"
    }
   }
  },
  {
   "cell_type": "code",
   "execution_count": null,
   "outputs": [],
   "source": [],
   "metadata": {
    "collapsed": false,
    "pycharm": {
     "name": "#%%\n"
    }
   }
  }
 ],
 "metadata": {
  "kernelspec": {
   "display_name": "Python 3",
   "language": "python",
   "name": "python3"
  },
  "language_info": {
   "codemirror_mode": {
    "name": "ipython",
    "version": 2
   },
   "file_extension": ".py",
   "mimetype": "text/x-python",
   "name": "python",
   "nbconvert_exporter": "python",
   "pygments_lexer": "ipython2",
   "version": "2.7.6"
  }
 },
 "nbformat": 4,
 "nbformat_minor": 0
}