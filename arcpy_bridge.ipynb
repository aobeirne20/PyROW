{
 "cells": [
  {
   "cell_type": "code",
   "execution_count": 25,
   "metadata": {
    "collapsed": true
   },
   "outputs": [],
   "source": [
    "import arcpy\n",
    "import numpy as np\n",
    "import pandas as pd"
   ]
  },
  {
   "cell_type": "code",
   "execution_count": 15,
   "outputs": [],
   "source": [
    "# Import Elevation Raster, for no value drops\n",
    "elevationRas = arcpy.Raster(r'C:\\Users\\augus\\Documents\\ArcGIS\\Projects\\PyROW\\PyROW_CA.gdb\\elevation')\n",
    "elevation_array = arcpy.RasterToNumPyArray(elevationRas, nodata_to_value=-9999).flatten()\n",
    "drop_indices = np.asarray(np.where(elevation_array == -9999), dtype='int').flatten()\n",
    "np.save('novalue_indices', drop_indices)"
   ],
   "metadata": {
    "collapsed": false,
    "pycharm": {
     "name": "#%%\n"
    }
   }
  },
  {
   "cell_type": "code",
   "execution_count": 16,
   "outputs": [],
   "source": [
    "drop_indices = np.load('novalue_indices.npy')"
   ],
   "metadata": {
    "collapsed": false,
    "pycharm": {
     "name": "#%%\n"
    }
   }
  },
  {
   "cell_type": "code",
   "execution_count": 17,
   "outputs": [],
   "source": [
    "elevationRas = arcpy.Raster(r'C:\\Users\\augus\\Documents\\ArcGIS\\Projects\\PyROW\\PyROW_CA.gdb\\elevation')\n",
    "elevation_array = np.delete(arcpy.RasterToNumPyArray(elevationRas, nodata_to_value=0).flatten(), drop_indices)\n",
    "\n",
    "rows_width = elevationRas.width\n",
    "columns_height = elevationRas.height\n",
    "\n",
    "lat = np.zeros((columns_height, rows_width))\n",
    "long = np.zeros((columns_height, rows_width))\n",
    "\n",
    "lat_value = lambda y : elevationRas.extent.YMax + ((elevationRas.extent.YMin - elevationRas.extent.YMax) / (columns_height - 1)) * y\n",
    "\n",
    "for n, row in enumerate(lat):\n",
    "    row[:] = lat_value(n)\n",
    "\n",
    "lat = lat.flatten()\n",
    "\n",
    "long_value = lambda x: elevationRas.extent.XMin + ((elevationRas.extent.XMax - elevationRas.extent.XMin) / (rows_width - 1)) * x\n",
    "\n",
    "long = long.transpose()\n",
    "for n, psuedorow in enumerate(long):\n",
    "    psuedorow[:] = long_value(n)\n",
    "long = long.transpose().flatten()\n",
    "\n",
    "farray_latitude = np.delete(lat, drop_indices)\n",
    "farray_longitude = np.delete(long, drop_indices)\n",
    "farray_elevation = elevation_array"
   ],
   "metadata": {
    "collapsed": false,
    "pycharm": {
     "name": "#%%\n"
    }
   }
  },
  {
   "cell_type": "code",
   "execution_count": 18,
   "outputs": [],
   "source": [
    "agencyRas = arcpy.Raster(r'C:\\Users\\augus\\Documents\\ArcGIS\\Projects\\PyROW\\PyROW_CA.gdb\\agencies')\n",
    "\n",
    "farray_agency = np.delete(arcpy.RasterToNumPyArray(agencyRas, nodata_to_value=0).flatten(), drop_indices)\n",
    "agency_dict = {0.0: \"No Agency\",\n",
    " 1.0: \"Fish and Wildlife Service\",\n",
    " 2.0: \"Bureau of Land Management\",\n",
    " 3.0: \"National Park Service\",\n",
    " 4.0: \"Forest Service\",\n",
    " 5.0: \"Department of Defense\",\n",
    " 6.0: \"Bureau of Reclamation\"}\n",
    "\n",
    "def agency_value_replace(i):\n",
    "    return agency_dict[i]\n",
    "\n",
    "agency_mapper = np.vectorize(agency_value_replace)\n",
    "farray_agency = agency_mapper(farray_agency)"
   ],
   "metadata": {
    "collapsed": false,
    "pycharm": {
     "name": "#%%\n"
    }
   }
  },
  {
   "cell_type": "code",
   "execution_count": 23,
   "outputs": [],
   "source": [
    "arrays_for_df = {\"LATITUDE\": farray_latitude,\n",
    "                 \"LONGITUDE\": farray_longitude,\n",
    "                \"ELEVATION\": farray_elevation,\n",
    "                \"AGENCY\": farray_agency}\n",
    "\n",
    "df = pd.DataFrame(data=arrays_for_df)\n",
    "df.head()\n",
    "\n",
    "df.to_parquet(\"lat_long_height_agency.parquet\", compression='None')"
   ],
   "metadata": {
    "collapsed": false,
    "pycharm": {
     "name": "#%%\n"
    }
   }
  },
  {
   "cell_type": "code",
   "execution_count": 24,
   "outputs": [
    {
     "data": {
      "text/plain": "       LATITUDE     LONGITUDE   ELEVATION          AGENCY\n0  5.162364e+06 -1.370879e+07  824.563354  Forest Service\n1  5.162364e+06 -1.370869e+07  830.883362  Forest Service\n2  5.162364e+06 -1.370859e+07  877.235413  Forest Service\n3  5.162364e+06 -1.370849e+07  899.555420  Forest Service\n4  5.162364e+06 -1.370839e+07  860.095459  Forest Service",
      "text/html": "<div>\n<style scoped>\n    .dataframe tbody tr th:only-of-type {\n        vertical-align: middle;\n    }\n\n    .dataframe tbody tr th {\n        vertical-align: top;\n    }\n\n    .dataframe thead th {\n        text-align: right;\n    }\n</style>\n<table border=\"1\" class=\"dataframe\">\n  <thead>\n    <tr style=\"text-align: right;\">\n      <th></th>\n      <th>LATITUDE</th>\n      <th>LONGITUDE</th>\n      <th>ELEVATION</th>\n      <th>AGENCY</th>\n    </tr>\n  </thead>\n  <tbody>\n    <tr>\n      <th>0</th>\n      <td>5.162364e+06</td>\n      <td>-1.370879e+07</td>\n      <td>824.563354</td>\n      <td>Forest Service</td>\n    </tr>\n    <tr>\n      <th>1</th>\n      <td>5.162364e+06</td>\n      <td>-1.370869e+07</td>\n      <td>830.883362</td>\n      <td>Forest Service</td>\n    </tr>\n    <tr>\n      <th>2</th>\n      <td>5.162364e+06</td>\n      <td>-1.370859e+07</td>\n      <td>877.235413</td>\n      <td>Forest Service</td>\n    </tr>\n    <tr>\n      <th>3</th>\n      <td>5.162364e+06</td>\n      <td>-1.370849e+07</td>\n      <td>899.555420</td>\n      <td>Forest Service</td>\n    </tr>\n    <tr>\n      <th>4</th>\n      <td>5.162364e+06</td>\n      <td>-1.370839e+07</td>\n      <td>860.095459</td>\n      <td>Forest Service</td>\n    </tr>\n  </tbody>\n</table>\n</div>"
     },
     "execution_count": 24,
     "metadata": {},
     "output_type": "execute_result"
    }
   ],
   "source": [
    "base_df = pd.read_parquet(\"lat_long_height_agency.parquet\")\n",
    "base_df.head()"
   ],
   "metadata": {
    "collapsed": false,
    "pycharm": {
     "name": "#%%\n"
    }
   }
  },
  {
   "cell_type": "code",
   "execution_count": null,
   "outputs": [],
   "source": [
    "# Snow data not used. SNOTEL data not widespread enough for correct use."
   ],
   "metadata": {
    "collapsed": false,
    "pycharm": {
     "name": "#%%\n"
    }
   }
  },
  {
   "cell_type": "code",
   "execution_count": 37,
   "outputs": [
    {
     "name": "stdout",
     "output_type": "stream",
     "text": [
      "-----------------------\n",
      "ras_groundcover2010\n",
      "ras_ppt2010\n",
      "ras_tmp2010\n",
      "ras_drought2010\n",
      "ras_fire2010\n",
      "-----------------------\n",
      "ras_groundcover2011\n",
      "ras_ppt2011\n",
      "ras_tmp2011\n",
      "ras_drought2011\n",
      "ras_fire2011\n",
      "-----------------------\n",
      "ras_groundcover2012\n",
      "ras_ppt2012\n",
      "ras_tmp2012\n",
      "ras_drought2012\n",
      "ras_fire2012\n",
      "-----------------------\n",
      "ras_groundcover2013\n",
      "ras_ppt2013\n",
      "ras_tmp2013\n",
      "ras_drought2013\n",
      "ras_fire2013\n",
      "-----------------------\n",
      "ras_groundcover2014\n",
      "ras_ppt2014\n",
      "ras_tmp2014\n",
      "ras_drought2014\n",
      "ras_fire2014\n",
      "-----------------------\n",
      "ras_groundcover2015\n",
      "ras_ppt2015\n",
      "ras_tmp2015\n",
      "ras_drought2015\n",
      "ras_fire2015\n",
      "-----------------------\n",
      "ras_groundcover2016\n",
      "ras_ppt2016\n",
      "ras_tmp2016\n",
      "ras_drought2016\n",
      "ras_fire2016\n",
      "-----------------------\n",
      "ras_groundcover2017\n",
      "ras_ppt2017\n",
      "ras_tmp2017\n",
      "ras_drought2017\n",
      "ras_fire2017\n",
      "-----------------------\n",
      "ras_groundcover2018\n",
      "ras_ppt2018\n",
      "ras_tmp2018\n",
      "ras_drought2018\n",
      "ras_fire2018\n",
      "-----------------------\n",
      "ras_groundcover2019\n",
      "ras_ppt2019\n",
      "ras_tmp2019\n",
      "ras_drought2019\n",
      "ras_fire2019\n",
      "-----------------------\n",
      "ras_groundcover2020\n",
      "ras_ppt2020\n",
      "ras_tmp2020\n",
      "ras_drought2020\n",
      "ras_fire2020\n",
      "-----------------------\n",
      "ras_groundcover2021\n",
      "ras_ppt2021\n",
      "ras_tmp2021\n",
      "ras_drought2021\n",
      "ras_fire2021\n"
     ]
    }
   ],
   "source": [
    "time_series_data_prefixes = [\"drought\", \"groundcover\", \"ppt\", \"tmp\", \"fire\"]\n",
    "\n",
    "groundcover_dict = {\n",
    "    0.0: \"Unclassified\",\n",
    "    11.0: \"Open Water\",\n",
    "    12.0: \"Perennial Snow/Ice\",\n",
    "    21.0: \"Developed, Open Space\",\n",
    "    22.0: \"Developed, Low Intensity\",\n",
    "    23.0: \"Developed, Medium Intensity\",\n",
    "    24.0: \"Developed, High Intensity\",\n",
    "    31.0: \"Barren Land\",\n",
    "    41.0: \"Deciduous Forest\",\n",
    "    42.0: \"Evergreen Forest\",\n",
    "    43.0: \"Mixed Forest\",\n",
    "    52.0: \"Shrub/Scrub\",\n",
    "    71.0: \"Herbaceous\",\n",
    "    81.0: \"Hay/Pasture\",\n",
    "    82.0: \"Cultivated Crops\",\n",
    "    90.0: \"Woody Wetlands\",\n",
    "    95.0: \"Emergent Herbaceous Wetlands\"\n",
    "}\n",
    "drought_dict = {\n",
    "    -1: \"No Drought\",\n",
    "    0.0: \"D0\",\n",
    "    1.0: \"D1\",\n",
    "    2.0: \"D2\",\n",
    "    3.0: \"D3\",\n",
    "    4.0: \"D4\"\n",
    "}\n",
    "def groundcover_value_replace(i):\n",
    "    return groundcover_dict[i]\n",
    "def drought_value_replace(i):\n",
    "    return drought_dict[i]\n",
    "\n",
    "groundcover_mapper = np.vectorize(groundcover_value_replace)\n",
    "drought_mapper = np.vectorize(drought_value_replace)\n",
    "\n",
    "this_year_df = pd.read_parquet(\"lat_long_height_agency.parquet\")\n",
    "\n",
    "for year in [2010, 2011, 2012, 2013, 2014, 2015, 2016, 2017, 2018, 2019, 2020, 2021]:\n",
    "    time_series_arrays = []\n",
    "    print(f\"-----------------------\")\n",
    "    for category in [\"groundcover\", \"ppt\", \"tmp\", \"drought\", \"fire\"]:\n",
    "        print(f'ras_{category}{year}')\n",
    "        thisRas = arcpy.Raster(r'C:\\Users\\augus\\Documents\\ArcGIS\\Projects\\PyROW\\PyROW_CA.gdb' + f\"\\\\ras_{category}{year}\")\n",
    "        this_flat_array = np.delete(arcpy.RasterToNumPyArray(thisRas, nodata_to_value=0).flatten(), drop_indices)\n",
    "\n",
    "        if category == \"drought\":\n",
    "            this_flat_array = drought_mapper(this_flat_array)\n",
    "        elif category == \"groundcover\":\n",
    "            this_flat_array = groundcover_mapper(this_flat_array)\n",
    "\n",
    "        time_series_arrays.append(this_flat_array)\n",
    "\n",
    "    time_arrays_for_df = {\n",
    "        f\"GROUNDCOVER_{year}\": time_series_arrays[0],\n",
    "        f\"PRECIPITATION_{year}\": time_series_arrays[1],\n",
    "        f\"TEMPERATURE_{year}\": time_series_arrays[2],\n",
    "        f\"DROUGHT_{year}\": time_series_arrays[3],\n",
    "        f\"FIRE_{year}\": time_series_arrays[4]}\n",
    "\n",
    "    time_df = pd.DataFrame(data=time_arrays_for_df)\n",
    "\n",
    "    combo_df = pd.concat([this_year_df, time_df.reindex(this_year_df.index)], axis=1)\n",
    "\n",
    "    combo_df.to_parquet(f\"PyROW_data_year{year}.parquet\", compression='None')"
   ],
   "metadata": {
    "collapsed": false,
    "pycharm": {
     "name": "#%%\n"
    }
   }
  },
  {
   "cell_type": "code",
   "execution_count": null,
   "outputs": [],
   "source": [],
   "metadata": {
    "collapsed": false,
    "pycharm": {
     "name": "#%%\n"
    }
   }
  }
 ],
 "metadata": {
  "kernelspec": {
   "display_name": "Python 3",
   "language": "python",
   "name": "python3"
  },
  "language_info": {
   "codemirror_mode": {
    "name": "ipython",
    "version": 2
   },
   "file_extension": ".py",
   "mimetype": "text/x-python",
   "name": "python",
   "nbconvert_exporter": "python",
   "pygments_lexer": "ipython2",
   "version": "2.7.6"
  }
 },
 "nbformat": 4,
 "nbformat_minor": 0
}