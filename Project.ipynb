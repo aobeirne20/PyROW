{
  "nbformat": 4,
  "nbformat_minor": 0,
  "metadata": {
    "colab": {
      "name": "Project.ipynb",
      "provenance": [],
      "collapsed_sections": []
    },
    "kernelspec": {
      "name": "python3",
      "display_name": "Python 3"
    },
    "language_info": {
      "name": "python"
    }
  },
  "cells": [
    {
      "cell_type": "code",
      "source": [
        "#modules\n",
        "# import\n",
        "import pandas as pd\n",
        "import numpy as np"
      ],
      "metadata": {
        "id": "XfMXWqMMMmhd"
      },
      "execution_count": null,
      "outputs": []
    },
    {
      "cell_type": "code",
      "execution_count": null,
      "metadata": {
        "colab": {
          "base_uri": "https://localhost:8080/"
        },
        "id": "YJzY-Yo2MN2V",
        "outputId": "f5875189-1526-46c6-c7c1-54f8d0e9ad9f"
      },
      "outputs": [
        {
          "output_type": "stream",
          "name": "stdout",
          "text": [
            "Drive already mounted at /gdrive; to attempt to forcibly remount, call drive.mount(\"/gdrive\", force_remount=True).\n"
          ]
        }
      ],
      "source": [
        "#mounting to google drive\n",
        "from google.colab import drive\n",
        "drive.mount('/gdrive')"
      ]
    },
    {
      "cell_type": "code",
      "source": [
        "import os\n",
        "import numpy as np\n",
        "import pandas as pd\n",
        "from google.colab import files\n",
        "data_to_load = files.upload()\n",
        "import io\n",
        "df= pd.read_csv(io.BytesIO(data_to_load['SNOTEL_summary.csv']))"
      ],
      "metadata": {
        "colab": {
          "resources": {
            "http://localhost:8080/nbextensions/google.colab/files.js": {
              "data": "Ly8gQ29weXJpZ2h0IDIwMTcgR29vZ2xlIExMQwovLwovLyBMaWNlbnNlZCB1bmRlciB0aGUgQXBhY2hlIExpY2Vuc2UsIFZlcnNpb24gMi4wICh0aGUgIkxpY2Vuc2UiKTsKLy8geW91IG1heSBub3QgdXNlIHRoaXMgZmlsZSBleGNlcHQgaW4gY29tcGxpYW5jZSB3aXRoIHRoZSBMaWNlbnNlLgovLyBZb3UgbWF5IG9idGFpbiBhIGNvcHkgb2YgdGhlIExpY2Vuc2UgYXQKLy8KLy8gICAgICBodHRwOi8vd3d3LmFwYWNoZS5vcmcvbGljZW5zZXMvTElDRU5TRS0yLjAKLy8KLy8gVW5sZXNzIHJlcXVpcmVkIGJ5IGFwcGxpY2FibGUgbGF3IG9yIGFncmVlZCB0byBpbiB3cml0aW5nLCBzb2Z0d2FyZQovLyBkaXN0cmlidXRlZCB1bmRlciB0aGUgTGljZW5zZSBpcyBkaXN0cmlidXRlZCBvbiBhbiAiQVMgSVMiIEJBU0lTLAovLyBXSVRIT1VUIFdBUlJBTlRJRVMgT1IgQ09ORElUSU9OUyBPRiBBTlkgS0lORCwgZWl0aGVyIGV4cHJlc3Mgb3IgaW1wbGllZC4KLy8gU2VlIHRoZSBMaWNlbnNlIGZvciB0aGUgc3BlY2lmaWMgbGFuZ3VhZ2UgZ292ZXJuaW5nIHBlcm1pc3Npb25zIGFuZAovLyBsaW1pdGF0aW9ucyB1bmRlciB0aGUgTGljZW5zZS4KCi8qKgogKiBAZmlsZW92ZXJ2aWV3IEhlbHBlcnMgZm9yIGdvb2dsZS5jb2xhYiBQeXRob24gbW9kdWxlLgogKi8KKGZ1bmN0aW9uKHNjb3BlKSB7CmZ1bmN0aW9uIHNwYW4odGV4dCwgc3R5bGVBdHRyaWJ1dGVzID0ge30pIHsKICBjb25zdCBlbGVtZW50ID0gZG9jdW1lbnQuY3JlYXRlRWxlbWVudCgnc3BhbicpOwogIGVsZW1lbnQudGV4dENvbnRlbnQgPSB0ZXh0OwogIGZvciAoY29uc3Qga2V5IG9mIE9iamVjdC5rZXlzKHN0eWxlQXR0cmlidXRlcykpIHsKICAgIGVsZW1lbnQuc3R5bGVba2V5XSA9IHN0eWxlQXR0cmlidXRlc1trZXldOwogIH0KICByZXR1cm4gZWxlbWVudDsKfQoKLy8gTWF4IG51bWJlciBvZiBieXRlcyB3aGljaCB3aWxsIGJlIHVwbG9hZGVkIGF0IGEgdGltZS4KY29uc3QgTUFYX1BBWUxPQURfU0laRSA9IDEwMCAqIDEwMjQ7CgpmdW5jdGlvbiBfdXBsb2FkRmlsZXMoaW5wdXRJZCwgb3V0cHV0SWQpIHsKICBjb25zdCBzdGVwcyA9IHVwbG9hZEZpbGVzU3RlcChpbnB1dElkLCBvdXRwdXRJZCk7CiAgY29uc3Qgb3V0cHV0RWxlbWVudCA9IGRvY3VtZW50LmdldEVsZW1lbnRCeUlkKG91dHB1dElkKTsKICAvLyBDYWNoZSBzdGVwcyBvbiB0aGUgb3V0cHV0RWxlbWVudCB0byBtYWtlIGl0IGF2YWlsYWJsZSBmb3IgdGhlIG5leHQgY2FsbAogIC8vIHRvIHVwbG9hZEZpbGVzQ29udGludWUgZnJvbSBQeXRob24uCiAgb3V0cHV0RWxlbWVudC5zdGVwcyA9IHN0ZXBzOwoKICByZXR1cm4gX3VwbG9hZEZpbGVzQ29udGludWUob3V0cHV0SWQpOwp9CgovLyBUaGlzIGlzIHJvdWdobHkgYW4gYXN5bmMgZ2VuZXJhdG9yIChub3Qgc3VwcG9ydGVkIGluIHRoZSBicm93c2VyIHlldCksCi8vIHdoZXJlIHRoZXJlIGFyZSBtdWx0aXBsZSBhc3luY2hyb25vdXMgc3RlcHMgYW5kIHRoZSBQeXRob24gc2lkZSBpcyBnb2luZwovLyB0byBwb2xsIGZvciBjb21wbGV0aW9uIG9mIGVhY2ggc3RlcC4KLy8gVGhpcyB1c2VzIGEgUHJvbWlzZSB0byBibG9jayB0aGUgcHl0aG9uIHNpZGUgb24gY29tcGxldGlvbiBvZiBlYWNoIHN0ZXAsCi8vIHRoZW4gcGFzc2VzIHRoZSByZXN1bHQgb2YgdGhlIHByZXZpb3VzIHN0ZXAgYXMgdGhlIGlucHV0IHRvIHRoZSBuZXh0IHN0ZXAuCmZ1bmN0aW9uIF91cGxvYWRGaWxlc0NvbnRpbnVlKG91dHB1dElkKSB7CiAgY29uc3Qgb3V0cHV0RWxlbWVudCA9IGRvY3VtZW50LmdldEVsZW1lbnRCeUlkKG91dHB1dElkKTsKICBjb25zdCBzdGVwcyA9IG91dHB1dEVsZW1lbnQuc3RlcHM7CgogIGNvbnN0IG5leHQgPSBzdGVwcy5uZXh0KG91dHB1dEVsZW1lbnQubGFzdFByb21pc2VWYWx1ZSk7CiAgcmV0dXJuIFByb21pc2UucmVzb2x2ZShuZXh0LnZhbHVlLnByb21pc2UpLnRoZW4oKHZhbHVlKSA9PiB7CiAgICAvLyBDYWNoZSB0aGUgbGFzdCBwcm9taXNlIHZhbHVlIHRvIG1ha2UgaXQgYXZhaWxhYmxlIHRvIHRoZSBuZXh0CiAgICAvLyBzdGVwIG9mIHRoZSBnZW5lcmF0b3IuCiAgICBvdXRwdXRFbGVtZW50Lmxhc3RQcm9taXNlVmFsdWUgPSB2YWx1ZTsKICAgIHJldHVybiBuZXh0LnZhbHVlLnJlc3BvbnNlOwogIH0pOwp9CgovKioKICogR2VuZXJhdG9yIGZ1bmN0aW9uIHdoaWNoIGlzIGNhbGxlZCBiZXR3ZWVuIGVhY2ggYXN5bmMgc3RlcCBvZiB0aGUgdXBsb2FkCiAqIHByb2Nlc3MuCiAqIEBwYXJhbSB7c3RyaW5nfSBpbnB1dElkIEVsZW1lbnQgSUQgb2YgdGhlIGlucHV0IGZpbGUgcGlja2VyIGVsZW1lbnQuCiAqIEBwYXJhbSB7c3RyaW5nfSBvdXRwdXRJZCBFbGVtZW50IElEIG9mIHRoZSBvdXRwdXQgZGlzcGxheS4KICogQHJldHVybiB7IUl0ZXJhYmxlPCFPYmplY3Q+fSBJdGVyYWJsZSBvZiBuZXh0IHN0ZXBzLgogKi8KZnVuY3Rpb24qIHVwbG9hZEZpbGVzU3RlcChpbnB1dElkLCBvdXRwdXRJZCkgewogIGNvbnN0IGlucHV0RWxlbWVudCA9IGRvY3VtZW50LmdldEVsZW1lbnRCeUlkKGlucHV0SWQpOwogIGlucHV0RWxlbWVudC5kaXNhYmxlZCA9IGZhbHNlOwoKICBjb25zdCBvdXRwdXRFbGVtZW50ID0gZG9jdW1lbnQuZ2V0RWxlbWVudEJ5SWQob3V0cHV0SWQpOwogIG91dHB1dEVsZW1lbnQuaW5uZXJIVE1MID0gJyc7CgogIGNvbnN0IHBpY2tlZFByb21pc2UgPSBuZXcgUHJvbWlzZSgocmVzb2x2ZSkgPT4gewogICAgaW5wdXRFbGVtZW50LmFkZEV2ZW50TGlzdGVuZXIoJ2NoYW5nZScsIChlKSA9PiB7CiAgICAgIHJlc29sdmUoZS50YXJnZXQuZmlsZXMpOwogICAgfSk7CiAgfSk7CgogIGNvbnN0IGNhbmNlbCA9IGRvY3VtZW50LmNyZWF0ZUVsZW1lbnQoJ2J1dHRvbicpOwogIGlucHV0RWxlbWVudC5wYXJlbnRFbGVtZW50LmFwcGVuZENoaWxkKGNhbmNlbCk7CiAgY2FuY2VsLnRleHRDb250ZW50ID0gJ0NhbmNlbCB1cGxvYWQnOwogIGNvbnN0IGNhbmNlbFByb21pc2UgPSBuZXcgUHJvbWlzZSgocmVzb2x2ZSkgPT4gewogICAgY2FuY2VsLm9uY2xpY2sgPSAoKSA9PiB7CiAgICAgIHJlc29sdmUobnVsbCk7CiAgICB9OwogIH0pOwoKICAvLyBXYWl0IGZvciB0aGUgdXNlciB0byBwaWNrIHRoZSBmaWxlcy4KICBjb25zdCBmaWxlcyA9IHlpZWxkIHsKICAgIHByb21pc2U6IFByb21pc2UucmFjZShbcGlja2VkUHJvbWlzZSwgY2FuY2VsUHJvbWlzZV0pLAogICAgcmVzcG9uc2U6IHsKICAgICAgYWN0aW9uOiAnc3RhcnRpbmcnLAogICAgfQogIH07CgogIGNhbmNlbC5yZW1vdmUoKTsKCiAgLy8gRGlzYWJsZSB0aGUgaW5wdXQgZWxlbWVudCBzaW5jZSBmdXJ0aGVyIHBpY2tzIGFyZSBub3QgYWxsb3dlZC4KICBpbnB1dEVsZW1lbnQuZGlzYWJsZWQgPSB0cnVlOwoKICBpZiAoIWZpbGVzKSB7CiAgICByZXR1cm4gewogICAgICByZXNwb25zZTogewogICAgICAgIGFjdGlvbjogJ2NvbXBsZXRlJywKICAgICAgfQogICAgfTsKICB9CgogIGZvciAoY29uc3QgZmlsZSBvZiBmaWxlcykgewogICAgY29uc3QgbGkgPSBkb2N1bWVudC5jcmVhdGVFbGVtZW50KCdsaScpOwogICAgbGkuYXBwZW5kKHNwYW4oZmlsZS5uYW1lLCB7Zm9udFdlaWdodDogJ2JvbGQnfSkpOwogICAgbGkuYXBwZW5kKHNwYW4oCiAgICAgICAgYCgke2ZpbGUudHlwZSB8fCAnbi9hJ30pIC0gJHtmaWxlLnNpemV9IGJ5dGVzLCBgICsKICAgICAgICBgbGFzdCBtb2RpZmllZDogJHsKICAgICAgICAgICAgZmlsZS5sYXN0TW9kaWZpZWREYXRlID8gZmlsZS5sYXN0TW9kaWZpZWREYXRlLnRvTG9jYWxlRGF0ZVN0cmluZygpIDoKICAgICAgICAgICAgICAgICAgICAgICAgICAgICAgICAgICAgJ24vYSd9IC0gYCkpOwogICAgY29uc3QgcGVyY2VudCA9IHNwYW4oJzAlIGRvbmUnKTsKICAgIGxpLmFwcGVuZENoaWxkKHBlcmNlbnQpOwoKICAgIG91dHB1dEVsZW1lbnQuYXBwZW5kQ2hpbGQobGkpOwoKICAgIGNvbnN0IGZpbGVEYXRhUHJvbWlzZSA9IG5ldyBQcm9taXNlKChyZXNvbHZlKSA9PiB7CiAgICAgIGNvbnN0IHJlYWRlciA9IG5ldyBGaWxlUmVhZGVyKCk7CiAgICAgIHJlYWRlci5vbmxvYWQgPSAoZSkgPT4gewogICAgICAgIHJlc29sdmUoZS50YXJnZXQucmVzdWx0KTsKICAgICAgfTsKICAgICAgcmVhZGVyLnJlYWRBc0FycmF5QnVmZmVyKGZpbGUpOwogICAgfSk7CiAgICAvLyBXYWl0IGZvciB0aGUgZGF0YSB0byBiZSByZWFkeS4KICAgIGxldCBmaWxlRGF0YSA9IHlpZWxkIHsKICAgICAgcHJvbWlzZTogZmlsZURhdGFQcm9taXNlLAogICAgICByZXNwb25zZTogewogICAgICAgIGFjdGlvbjogJ2NvbnRpbnVlJywKICAgICAgfQogICAgfTsKCiAgICAvLyBVc2UgYSBjaHVua2VkIHNlbmRpbmcgdG8gYXZvaWQgbWVzc2FnZSBzaXplIGxpbWl0cy4gU2VlIGIvNjIxMTU2NjAuCiAgICBsZXQgcG9zaXRpb24gPSAwOwogICAgZG8gewogICAgICBjb25zdCBsZW5ndGggPSBNYXRoLm1pbihmaWxlRGF0YS5ieXRlTGVuZ3RoIC0gcG9zaXRpb24sIE1BWF9QQVlMT0FEX1NJWkUpOwogICAgICBjb25zdCBjaHVuayA9IG5ldyBVaW50OEFycmF5KGZpbGVEYXRhLCBwb3NpdGlvbiwgbGVuZ3RoKTsKICAgICAgcG9zaXRpb24gKz0gbGVuZ3RoOwoKICAgICAgY29uc3QgYmFzZTY0ID0gYnRvYShTdHJpbmcuZnJvbUNoYXJDb2RlLmFwcGx5KG51bGwsIGNodW5rKSk7CiAgICAgIHlpZWxkIHsKICAgICAgICByZXNwb25zZTogewogICAgICAgICAgYWN0aW9uOiAnYXBwZW5kJywKICAgICAgICAgIGZpbGU6IGZpbGUubmFtZSwKICAgICAgICAgIGRhdGE6IGJhc2U2NCwKICAgICAgICB9LAogICAgICB9OwoKICAgICAgbGV0IHBlcmNlbnREb25lID0gZmlsZURhdGEuYnl0ZUxlbmd0aCA9PT0gMCA/CiAgICAgICAgICAxMDAgOgogICAgICAgICAgTWF0aC5yb3VuZCgocG9zaXRpb24gLyBmaWxlRGF0YS5ieXRlTGVuZ3RoKSAqIDEwMCk7CiAgICAgIHBlcmNlbnQudGV4dENvbnRlbnQgPSBgJHtwZXJjZW50RG9uZX0lIGRvbmVgOwoKICAgIH0gd2hpbGUgKHBvc2l0aW9uIDwgZmlsZURhdGEuYnl0ZUxlbmd0aCk7CiAgfQoKICAvLyBBbGwgZG9uZS4KICB5aWVsZCB7CiAgICByZXNwb25zZTogewogICAgICBhY3Rpb246ICdjb21wbGV0ZScsCiAgICB9CiAgfTsKfQoKc2NvcGUuZ29vZ2xlID0gc2NvcGUuZ29vZ2xlIHx8IHt9OwpzY29wZS5nb29nbGUuY29sYWIgPSBzY29wZS5nb29nbGUuY29sYWIgfHwge307CnNjb3BlLmdvb2dsZS5jb2xhYi5fZmlsZXMgPSB7CiAgX3VwbG9hZEZpbGVzLAogIF91cGxvYWRGaWxlc0NvbnRpbnVlLAp9Owp9KShzZWxmKTsK",
              "ok": true,
              "headers": [
                [
                  "content-type",
                  "application/javascript"
                ]
              ],
              "status": 200,
              "status_text": ""
            }
          },
          "base_uri": "https://localhost:8080/",
          "height": 74
        },
        "id": "JGCK7y1tN-bd",
        "outputId": "1f8fa151-25d8-4771-e248-3344ca425eb9"
      },
      "execution_count": null,
      "outputs": [
        {
          "output_type": "display_data",
          "data": {
            "text/plain": [
              "<IPython.core.display.HTML object>"
            ],
            "text/html": [
              "\n",
              "     <input type=\"file\" id=\"files-cebaa9c4-ea28-4d9a-ae39-ac4eed2dc296\" name=\"files[]\" multiple disabled\n",
              "        style=\"border:none\" />\n",
              "     <output id=\"result-cebaa9c4-ea28-4d9a-ae39-ac4eed2dc296\">\n",
              "      Upload widget is only available when the cell has been executed in the\n",
              "      current browser session. Please rerun this cell to enable.\n",
              "      </output>\n",
              "      <script src=\"/nbextensions/google.colab/files.js\"></script> "
            ]
          },
          "metadata": {}
        },
        {
          "output_type": "stream",
          "name": "stdout",
          "text": [
            "Saving SNOTEL_summary.csv to SNOTEL_summary (2).csv\n"
          ]
        }
      ]
    },
    {
      "cell_type": "code",
      "source": [
        "#reading the data\n",
        "path = \"/gdrive/My Drive/CEE 415or599 Machine learning/project\"\n",
        "df = pd.read_csv(path + \"/SNOTEL_summary.csv\")\n",
        "print(\"Printing the head of the data \\n\", df.head())\n",
        "print(((df['SNOTEL State'])))\n"
      ],
      "metadata": {
        "colab": {
          "base_uri": "https://localhost:8080/"
        },
        "id": "DsMk6H1xMhwr",
        "outputId": "aee915c1-eaee-47dc-fe17-b4c6197d55b5"
      },
      "execution_count": null,
      "outputs": [
        {
          "output_type": "stream",
          "name": "stdout",
          "text": [
            "Printing the head of the data \n",
            "    Num  SNOTEL ID SNOTEL State    SNOTEL Name  SNOTEL Elev (ft)  \\\n",
            "0    1       1000           OR  Annie Springs              6010   \n",
            "1    2       1001           AK      Long Lake               850   \n",
            "2    3       1003           AK  Mcneil Canyon              1320   \n",
            "3    4       1005           CO      Ute Creek             10650   \n",
            "4    5       1006           NV     Lewis Peak              7400   \n",
            "\n",
            "   SNOTEL Lat (°)  SNOTEL Lon (°)  Data Starting Date Data Ending Date  \n",
            "0           42.87          -122.17          9/15/2000        9/30/2018  \n",
            "1           58.19          -133.83          10/1/1999        9/30/2018  \n",
            "2           59.74          -151.25          10/1/1986        9/30/2018  \n",
            "3           37.61          -105.37          8/15/2000        9/30/2018  \n",
            "4           40.36          -116.86          8/23/2000        9/30/2018  \n",
            "0      OR\n",
            "1      AK\n",
            "2      AK\n",
            "3      CO\n",
            "4      NV\n",
            "       ..\n",
            "824    ID\n",
            "825    WA\n",
            "826    UT\n",
            "827    WA\n",
            "828    WA\n",
            "Name: SNOTEL State, Length: 829, dtype: object\n"
          ]
        }
      ]
    },
    {
      "cell_type": "code",
      "source": [
        "#considering only California state\n",
        "df = df.drop(df[df['SNOTEL State'] != 'CA'].index ,  axis=0)\n",
        "#print(len(df))\n",
        "df = df.reset_index(drop=True)\n",
        "print(df)"
      ],
      "metadata": {
        "colab": {
          "base_uri": "https://localhost:8080/"
        },
        "id": "Xw0IT7J1iB3D",
        "outputId": "64ec5fc2-2d8f-45ac-8adf-a6de5953d1bf"
      },
      "execution_count": null,
      "outputs": [
        {
          "output_type": "stream",
          "name": "stdout",
          "text": [
            "    Num  SNOTEL ID SNOTEL State           SNOTEL Name  SNOTEL Elev (ft)  \\\n",
            "0    32       1049           CA      Forestdale Creek              8017   \n",
            "1    33       1050           CA          Horse Meadow              8557   \n",
            "2    34       1051           CA         Burnside Lake              8129   \n",
            "3    35       1052           CA         Summit Meadow              9313   \n",
            "4    48       1067           CA           Carson Pass              8360   \n",
            "5   179       1258           CA            State Line              5680   \n",
            "6   191       1277           CA        Fredonyer Peak              7208   \n",
            "7   195        301           CA              Adin Mtn              6190   \n",
            "8   249        356           CA            Blue Lakes              8067   \n",
            "9   283        391           CA            Cedar Pass              7030   \n",
            "10  317        428           CA               Css Lab              6894   \n",
            "11  333        446           CA          Dismal Swamp              7360   \n",
            "12  346        462           CA          Ebbetts Pass              8661   \n",
            "13  347        463           CA             Echo Peak              7653   \n",
            "14  357        473           CA           Fallen Leaf              6242   \n",
            "15  392        508           CA         Hagans Meadow              7742   \n",
            "16  402        518           CA       Heavenly Valley              8534   \n",
            "17  422        539           CA     Independence Camp              6980   \n",
            "18  423        540           CA    Independence Creek              6436   \n",
            "19  424        541           CA     Independence Lake              8338   \n",
            "20  455        574           CA          Leavitt Lake              9604   \n",
            "21  456        575           CA       Leavitt Meadows              7198   \n",
            "22  467        587           CA          Lobdell Lake              9249   \n",
            "23  510        633           CA          Monitor Pass              8306   \n",
            "24  569        697           CA           Poison Flat              7736   \n",
            "25  596        724           CA            Rubicon #2              7619   \n",
            "26  640        771           CA           Sonora Pass              8770   \n",
            "27  647        778           CA          Spratt Creek              6063   \n",
            "28  653        784           CA     Squaw Valley G.C.              8013   \n",
            "29  674        809           CA      Tahoe City Cross              6797   \n",
            "30  699        834           CA            Truckee #2              6509   \n",
            "31  711        846           CA  Virginia Lakes Ridge              9445   \n",
            "32  713        848           CA         Ward Creek #3              6745   \n",
            "33  815        977           CA          Crowder Flat              5170   \n",
            "\n",
            "    SNOTEL Lat (°)  SNOTEL Lon (°)  Data Starting Date Data Ending Date  \n",
            "0            38.68          -119.96          9/21/2003        9/30/2018  \n",
            "1            38.84          -119.89          9/22/2003        9/30/2018  \n",
            "2            38.72          -119.89          9/21/2003        9/30/2018  \n",
            "3            38.40          -119.54          9/23/2003        9/30/2018  \n",
            "4            38.69          -120.00          9/23/2004        9/30/2018  \n",
            "5            41.99          -120.72          6/20/2014        9/30/2018  \n",
            "6            40.69          -120.61          11/9/2016        9/30/2018  \n",
            "7            41.24          -120.79          9/13/1984        9/30/2018  \n",
            "8            38.61          -119.92           7/9/1980        9/30/2018  \n",
            "9            41.58          -120.30          10/1/1978        9/30/2018  \n",
            "10           39.33          -120.37          5/10/1983        9/30/2018  \n",
            "11           41.99          -120.18          10/1/1980        9/30/2018  \n",
            "12           38.55          -119.80          10/1/1978        9/30/2018  \n",
            "13           38.85          -120.08          6/25/1980        9/30/2018  \n",
            "14           38.93          -120.05          10/1/1978        9/30/2018  \n",
            "15           38.85          -119.94          10/1/1978        9/30/2018  \n",
            "16           38.92          -119.92          10/1/1978        9/30/2018  \n",
            "17           39.45          -120.29          9/30/1978        9/30/2018  \n",
            "18           39.49          -120.28          10/1/1980        9/30/2018  \n",
            "19           39.43          -120.31          10/1/1978        9/30/2018  \n",
            "20           38.28          -119.61          8/16/1989        9/30/2018  \n",
            "21           38.30          -119.55          10/1/1980        9/30/2018  \n",
            "22           38.44          -119.37          10/1/1978        9/30/2018  \n",
            "23           38.67          -119.61           8/1/1990        9/30/2018  \n",
            "24           38.51          -119.63          10/1/1980        9/30/2018  \n",
            "25           39.00          -120.13          10/1/1980        9/30/2018  \n",
            "26           38.31          -119.60          9/30/1978        9/30/2018  \n",
            "27           38.67          -119.82          10/1/1980        9/30/2018  \n",
            "28           39.19          -120.26          10/1/1980        9/30/2018  \n",
            "29           39.17          -120.15          10/1/1980        9/30/2018  \n",
            "30           39.30          -120.18          10/1/1980        9/30/2018  \n",
            "31           38.07          -119.23          9/30/1978        9/30/2018  \n",
            "32           39.14          -120.22          10/1/1979        9/30/2018  \n",
            "33           41.89          -120.75          10/1/1999        9/30/2018  \n"
          ]
        }
      ]
    },
    {
      "cell_type": "code",
      "source": [
        "from pandas.core.frame import DataFrame\n",
        "import os\n",
        "\n",
        "#reading the file names\n",
        "\n",
        "path = \"/gdrive/My Drive/CEE 415or599 Machine learning/project/bcqc_data\"\n",
        "fm=[]\n",
        "for filename in os.listdir(path):\n",
        "    filepath = os.path.join(path, filename)\n",
        "    #print(filename)\n",
        "    fm1 = filename.split('_')\n",
        "    fm1.append(fm1[2].split('.txt')[0])\n",
        "    fm.append(fm1)\n",
        "    #print((filename.split('_')))\n",
        "\n",
        "print(fm)\n",
        "fm2 =[]\n",
        "\n",
        "for i in range(len(df['SNOTEL Lat (°)'])):\n",
        "  #print(df['SNOTEL Lat (°)'][i], df['SNOTEL Lon (°) '][i])\n",
        "  for j in range(len(fm)):\n",
        "    lat = float(fm[j][1])\n",
        "    lon = float(fm[j][3])\n",
        "    if  ((df['SNOTEL Lat (°)'][i]  == lat) and (df['SNOTEL Lon (°) '][i]  == lon)):\n",
        "      print(df['SNOTEL Lat (°)'][i], lat, df['SNOTEL Lon (°) '][i], lon )\n",
        "\n",
        "      fm3=[]\n",
        "      fm3.append(fm[j][0])\n",
        "      fm3.append(fm[j][1])\n",
        "      fm3.append(fm[j][2])\n",
        "      fm3.append(fm[j][3])\n",
        "      fm3.append(df['SNOTEL Lat (°)'][i])\n",
        "      fm3.append(df['SNOTEL Lon (°) '][i])\n",
        "      fm3.append(df['SNOTEL State'][i])\n",
        "      fm3.append(df['Data Ending Date'][i])\n",
        "      fm3.append(df['Data Starting Date'][i])\n",
        "      fm3.append(df['SNOTEL Name'][i])\n",
        "      fm2.append(fm3)\n",
        "      \n",
        "print(fm2)\n",
        "fm4=[]\n",
        "for z in range(len(fm2)):\n",
        "  filename1 = fm2[z][0]+ '_' +fm2[z][1]+'_'+fm2[z][2]\n",
        "  filepath1 = os.path.join(path, filename1)\n",
        "  with open(filepath1, 'r') as f:\n",
        "    lines = f.readlines()\n",
        "    for i in range(len(lines)):   \n",
        "      fm4.append(lines[i].strip() + ' '+ str(fm2[z][4])+' ' + str(fm2[z][5]) + ' ' + fm2[z][6] + ' ' + str(fm2[z][7]) +' ' + str(fm2[z][8]) +' ' + fm2[z][9])\n",
        "print(fm4[1])\n",
        "snow = pd.DataFrame (fm4)"
      ],
      "metadata": {
        "colab": {
          "base_uri": "https://localhost:8080/"
        },
        "id": "XkMyWmhHSvnq",
        "outputId": "8e4d6dd2-3e94-49de-adbb-c6ba9c288e36"
      },
      "execution_count": null,
      "outputs": [
        {
          "output_type": "stream",
          "name": "stdout",
          "text": [
            "[['bcqc', '33.74000', '-108.95000.txt', '-108.95000'], ['bcqc', '33.37000', '-108.71000.txt', '-108.71000'], ['bcqc', '33.65000', '-109.31000.txt', '-109.31000'], ['bcqc', '33.69000', '-109.22000.txt', '-109.22000'], ['bcqc', '32.92000', '-108.15000.txt', '-108.15000'], ['bcqc', '33.40000', '-105.79000.txt', '-105.79000'], ['bcqc', '33.01000', '-107.87000.txt', '-107.87000'], ['bcqc', '33.36000', '-107.83000.txt', '-107.83000'], ['bcqc', '36.01000', '-106.55000.txt', '-106.55000'], ['bcqc', '35.70000', '-105.81000.txt', '-105.81000'], ['bcqc', '35.14000', '-112.15000.txt', '-112.15000'], ['bcqc', '35.07000', '-111.84000.txt', '-111.84000'], ['bcqc', '35.34000', '-111.65000.txt', '-111.65000'], ['bcqc', '35.26000', '-112.06000.txt', '-112.06000'], ['bcqc', '34.94000', '-111.52000.txt', '-111.52000'], ['bcqc', '35.27000', '-111.74000.txt', '-111.74000'], ['bcqc', '35.23000', '-108.27000.txt', '-108.27000'], ['bcqc', '34.97000', '-111.51000.txt', '-111.51000'], ['bcqc', '34.75000', '-111.41000.txt', '-111.41000'], ['bcqc', '34.46000', '-111.41000.txt', '-111.41000'], ['bcqc', '34.86000', '-111.61000.txt', '-111.61000'], ['bcqc', '34.46000', '-111.38000.txt', '-111.38000'], ['bcqc', '34.37000', '-111.01000.txt', '-111.01000'], ['bcqc', '34.31000', '-110.75000.txt', '-110.75000'], ['bcqc', '33.98000', '-109.50000.txt', '-109.50000'], ['bcqc', '33.97000', '-109.77000.txt', '-109.77000'], ['bcqc', '33.92000', '-109.46000.txt', '-109.46000'], ['bcqc', '33.90000', '-109.16000.txt', '-109.16000'], ['bcqc', '33.81000', '-110.92000.txt', '-110.92000'], ['bcqc', '33.76000', '-109.48000.txt', '-109.48000'], ['bcqc', '33.80000', '-109.15000.txt', '-109.15000'], ['bcqc', '36.13000', '-105.53000.txt', '-105.53000'], ['bcqc', '36.18000', '-108.95000.txt', '-108.95000'], ['bcqc', '36.03000', '-106.81000.txt', '-106.81000'], ['bcqc', '36.07000', '-105.63000.txt', '-105.63000'], ['bcqc', '35.77000', '-105.78000.txt', '-105.78000'], ['bcqc', '37.21000', '-105.12000.txt', '-105.12000'], ['bcqc', '36.99000', '-105.26000.txt', '-105.26000'], ['bcqc', '37.33000', '-105.07000.txt', '-105.07000'], ['bcqc', '36.96000', '-106.66000.txt', '-106.66000'], ['bcqc', '37.35000', '-105.23000.txt', '-105.23000'], ['bcqc', '36.86000', '-106.23000.txt', '-106.23000'], ['bcqc', '36.79000', '-105.24000.txt', '-105.24000'], ['bcqc', '36.47000', '-105.19000.txt', '-105.19000'], ['bcqc', '36.72000', '-106.26000.txt', '-106.26000'], ['bcqc', '36.70000', '-105.34000.txt', '-105.34000'], ['bcqc', '36.58000', '-105.46000.txt', '-105.46000'], ['bcqc', '36.32000', '-115.70000.txt', '-115.70000'], ['bcqc', '36.41000', '-105.33000.txt', '-105.33000'], ['bcqc', '36.51000', '-106.32000.txt', '-106.32000'], ['bcqc', '36.33000', '-109.06000.txt', '-109.06000'], ['bcqc', '36.31000', '-115.68000.txt', '-115.68000'], ['bcqc', '36.25000', '-115.63000.txt', '-115.63000'], ['bcqc', '36.19000', '-105.56000.txt', '-105.56000'], ['bcqc', '35.92000', '-106.39000.txt', '-106.39000'], ['bcqc', '36.00000', '-106.83000.txt', '-106.83000'], ['bcqc', '35.78000', '-105.54000.txt', '-105.54000'], ['bcqc', '37.57000', '-112.84000.txt', '-112.84000'], ['bcqc', '37.58000', '-112.90000.txt', '-112.90000'], ['bcqc', '37.49000', '-112.58000.txt', '-112.58000'], ['bcqc', '37.51000', '-113.40000.txt', '-113.40000'], ['bcqc', '37.53000', '-113.05000.txt', '-113.05000'], ['bcqc', '37.49000', '-113.85000.txt', '-113.85000'], ['bcqc', '37.50000', '-108.11000.txt', '-108.11000'], ['bcqc', '37.52000', '-112.27000.txt', '-112.27000'], ['bcqc', '37.50000', '-113.94000.txt', '-113.94000'], ['bcqc', '37.52000', '-107.32000.txt', '-107.32000'], ['bcqc', '37.60000', '-112.92000.txt', '-112.92000'], ['bcqc', '37.49000', '-112.51000.txt', '-112.51000'], ['bcqc', '37.49000', '-107.51000.txt', '-107.51000'], ['bcqc', '37.49000', '-106.84000.txt', '-106.84000'], ['bcqc', '37.48000', '-107.63000.txt', '-107.63000'], ['bcqc', '37.47000', '-106.54000.txt', '-106.54000'], ['bcqc', '37.48000', '-106.80000.txt', '-106.80000'], ['bcqc', '37.44000', '-108.02000.txt', '-108.02000'], ['bcqc', '37.43000', '-108.17000.txt', '-108.17000'], ['bcqc', '37.02000', '-106.45000.txt', '-106.45000'], ['bcqc', '37.40000', '-113.46000.txt', '-113.46000'], ['bcqc', '37.21000', '-105.20000.txt', '-105.20000'], ['bcqc', '37.38000', '-106.55000.txt', '-106.55000'], ['bcqc', '37.87000', '-109.45000.txt', '-109.45000'], ['bcqc', '37.84000', '-111.88000.txt', '-111.88000'], ['bcqc', '37.89000', '-108.20000.txt', '-108.20000'], ['bcqc', '37.88000', '-107.36000.txt', '-107.36000'], ['bcqc', '37.85000', '-107.73000.txt', '-107.73000'], ['bcqc', '37.80000', '-107.92000.txt', '-107.92000'], ['bcqc', '37.75000', '-107.69000.txt', '-107.69000'], ['bcqc', '37.72000', '-107.26000.txt', '-107.26000'], ['bcqc', '37.71000', '-107.51000.txt', '-107.51000'], ['bcqc', '37.81000', '-109.49000.txt', '-109.49000'], ['bcqc', '37.79000', '-108.02000.txt', '-108.02000'], ['bcqc', '37.85000', '-105.44000.txt', '-105.44000'], ['bcqc', '37.79000', '-108.18000.txt', '-108.18000'], ['bcqc', '37.75000', '-112.78000.txt', '-112.78000'], ['bcqc', '37.70000', '-107.78000.txt', '-107.78000'], ['bcqc', '37.66000', '-112.74000.txt', '-112.74000'], ['bcqc', '37.68000', '-112.86000.txt', '-112.86000'], ['bcqc', '37.66000', '-107.80000.txt', '-107.80000'], ['bcqc', '37.70000', '-112.65000.txt', '-112.65000'], ['bcqc', '37.65000', '-107.81000.txt', '-107.81000'], ['bcqc', '37.65000', '-108.01000.txt', '-108.01000'], ['bcqc', '37.62000', '-107.03000.txt', '-107.03000'], ['bcqc', '37.61000', '-105.37000.txt', '-105.37000'], ['bcqc', '38.48000', '-112.39000.txt', '-112.39000'], ['bcqc', '38.48000', '-109.27000.txt', '-109.27000'], ['bcqc', '38.31000', '-119.60000.txt', '-119.60000'], ['bcqc', '38.30000', '-112.44000.txt', '-112.44000'], ['bcqc', '38.30000', '-119.55000.txt', '-119.55000'], ['bcqc', '38.42000', '-108.38000.txt', '-108.38000'], ['bcqc', '38.48000', '-109.29000.txt', '-109.29000'], ['bcqc', '38.29000', '-106.37000.txt', '-106.37000'], ['bcqc', '38.29000', '-105.85000.txt', '-105.85000'], ['bcqc', '38.40000', '-119.54000.txt', '-119.54000'], ['bcqc', '38.30000', '-112.36000.txt', '-112.36000'], ['bcqc', '38.28000', '-119.61000.txt', '-119.61000'], ['bcqc', '38.21000', '-111.48000.txt', '-111.48000'], ['bcqc', '38.08000', '-110.77000.txt', '-110.77000'], ['bcqc', '38.07000', '-119.23000.txt', '-119.23000'], ['bcqc', '38.16000', '-106.60000.txt', '-106.60000'], ['bcqc', '38.05000', '-111.34000.txt', '-111.34000'], ['bcqc', '37.98000', '-110.79000.txt', '-110.79000'], ['bcqc', '37.97000', '-111.83000.txt', '-111.83000'], ['bcqc', '37.97000', '-106.56000.txt', '-106.56000'], ['bcqc', '38.07000', '-112.17000.txt', '-112.17000'], ['bcqc', '37.99000', '-107.20000.txt', '-107.20000'], ['bcqc', '37.97000', '-105.54000.txt', '-105.54000'], ['bcqc', '37.93000', '-107.68000.txt', '-107.68000'], ['bcqc', '37.89000', '-107.71000.txt', '-107.71000'], ['bcqc', '38.82000', '-106.59000.txt', '-106.59000'], ['bcqc', '38.84000', '-119.89000.txt', '-119.89000'], ['bcqc', '38.85000', '-120.08000.txt', '-120.08000'], ['bcqc', '38.85000', '-119.94000.txt', '-119.94000'], ['bcqc', '38.80000', '-111.68000.txt', '-111.68000'], ['bcqc', '38.79000', '-111.69000.txt', '-111.69000'], ['bcqc', '38.70000', '-106.37000.txt', '-106.37000'], ['bcqc', '38.77000', '-111.68000.txt', '-111.68000'], ['bcqc', '38.72000', '-119.89000.txt', '-119.89000'], ['bcqc', '38.69000', '-120.00000.txt', '-120.00000'], ['bcqc', '38.51000', '-119.63000.txt', '-119.63000'], ['bcqc', '38.68000', '-111.60000.txt', '-111.60000'], ['bcqc', '38.67000', '-119.61000.txt', '-119.61000'], ['bcqc', '38.67000', '-119.82000.txt', '-119.82000'], ['bcqc', '38.61000', '-119.92000.txt', '-119.92000'], ['bcqc', '38.55000', '-119.80000.txt', '-119.80000'], ['bcqc', '38.68000', '-119.96000.txt', '-119.96000'], ['bcqc', '38.50000', '-111.77000.txt', '-111.77000'], ['bcqc', '38.51000', '-112.02000.txt', '-112.02000'], ['bcqc', '38.50000', '-112.01000.txt', '-112.01000'], ['bcqc', '38.44000', '-119.37000.txt', '-119.37000'], ['bcqc', '38.49000', '-106.34000.txt', '-106.34000'], ['bcqc', '39.13000', '-107.29000.txt', '-107.29000'], ['bcqc', '39.09000', '-106.54000.txt', '-106.54000'], ['bcqc', '39.08000', '-106.61000.txt', '-106.61000'], ['bcqc', '39.05000', '-111.47000.txt', '-111.47000'], ['bcqc', '39.08000', '-107.14000.txt', '-107.14000'], ['bcqc', '39.05000', '-107.87000.txt', '-107.87000'], ['bcqc', '39.02000', '-107.05000.txt', '-107.05000'], ['bcqc', '39.06000', '-108.06000.txt', '-108.06000'], ['bcqc', '39.09000', '-107.63000.txt', '-107.63000'], ['bcqc', '39.03000', '-106.08000.txt', '-106.08000'], ['bcqc', '39.00000', '-120.13000.txt', '-120.13000'], ['bcqc', '39.01000', '-111.58000.txt', '-111.58000'], ['bcqc', '38.93000', '-120.05000.txt', '-120.05000'], ['bcqc', '38.89000', '-106.95000.txt', '-106.95000'], ['bcqc', '38.92000', '-119.92000.txt', '-119.92000'], ['bcqc', '39.01000', '-114.31000.txt', '-114.31000'], ['bcqc', '38.99000', '-106.75000.txt', '-106.75000'], ['bcqc', '38.95000', '-112.15000.txt', '-112.15000'], ['bcqc', '38.88000', '-112.25000.txt', '-112.25000'], ['bcqc', '38.88000', '-105.07000.txt', '-105.07000'], ['bcqc', '39.33000', '-120.37000.txt', '-120.37000'], ['bcqc', '39.42000', '-111.25000.txt', '-111.25000'], ['bcqc', '39.35000', '-112.33000.txt', '-112.33000'], ['bcqc', '39.31000', '-111.43000.txt', '-111.43000'], ['bcqc', '39.32000', '-111.49000.txt', '-111.49000'], ['bcqc', '39.30000', '-120.18000.txt', '-120.18000'], ['bcqc', '39.30000', '-106.61000.txt', '-106.61000'], ['bcqc', '39.29000', '-117.11000.txt', '-117.11000'], ['bcqc', '39.31000', '-109.53000.txt', '-109.53000'], ['bcqc', '39.26000', '-106.63000.txt', '-106.63000'], ['bcqc', '39.25000', '-119.88000.txt', '-119.88000'], ['bcqc', '39.29000', '-106.55000.txt', '-106.55000'], ['bcqc', '39.30000', '-106.11000.txt', '-106.11000'], ['bcqc', '39.30000', '-111.45000.txt', '-111.45000'], ['bcqc', '39.24000', '-111.52000.txt', '-111.52000'], ['bcqc', '39.19000', '-120.26000.txt', '-120.26000'], ['bcqc', '39.13000', '-114.96000.txt', '-114.96000'], ['bcqc', '39.17000', '-120.15000.txt', '-120.15000'], ['bcqc', '39.14000', '-120.22000.txt', '-120.22000'], ['bcqc', '39.16000', '-119.90000.txt', '-119.90000'], ['bcqc', '39.14000', '-111.56000.txt', '-111.56000'], ['bcqc', '39.16000', '-114.61000.txt', '-114.61000'], ['bcqc', '39.14000', '-111.51000.txt', '-111.51000'], ['bcqc', '39.13000', '-111.44000.txt', '-111.44000'], ['bcqc', '39.13000', '-111.35000.txt', '-111.35000'], ['bcqc', '39.56000', '-115.84000.txt', '-115.84000'], ['bcqc', '39.66000', '-110.38000.txt', '-110.38000'], ['bcqc', '39.61000', '-111.30000.txt', '-111.30000'], ['bcqc', '39.66000', '-105.59000.txt', '-105.59000'], ['bcqc', '39.60000', '-106.54000.txt', '-106.54000'], ['bcqc', '39.56000', '-114.63000.txt', '-114.63000'], ['bcqc', '39.57000', '-105.80000.txt', '-105.80000'], ['bcqc', '39.60000', '-106.51000.txt', '-106.51000'], ['bcqc', '39.50000', '-111.73000.txt', '-111.73000'], ['bcqc', '39.49000', '-120.28000.txt', '-120.28000'], ['bcqc', '39.46000', '-119.94000.txt', '-119.94000'], ['bcqc', '39.49000', '-106.17000.txt', '-106.17000'], ['bcqc', '39.46000', '-114.65000.txt', '-114.65000'], ['bcqc', '39.45000', '-120.29000.txt', '-120.29000'], ['bcqc', '39.45000', '-115.98000.txt', '-115.98000'], ['bcqc', '39.45000', '-111.27000.txt', '-111.27000'], ['bcqc', '39.43000', '-120.31000.txt', '-120.31000'], ['bcqc', '39.44000', '-105.91000.txt', '-105.91000'], ['bcqc', '39.36000', '-106.06000.txt', '-106.06000'], ['bcqc', '39.32000', '-114.62000.txt', '-114.62000'], ['bcqc', '39.38000', '-106.20000.txt', '-106.20000'], ['bcqc', '39.32000', '-106.61000.txt', '-106.61000'], ['bcqc', '39.32000', '-119.89000.txt', '-119.89000'], ['bcqc', '40.04000', '-105.75000.txt', '-105.75000'], ['bcqc', '39.94000', '-112.41000.txt', '-112.41000'], ['bcqc', '39.96000', '-110.99000.txt', '-110.99000'], ['bcqc', '39.94000', '-105.59000.txt', '-105.59000'], ['bcqc', '39.93000', '-111.63000.txt', '-111.63000'], ['bcqc', '39.89000', '-111.25000.txt', '-111.25000'], ['bcqc', '39.92000', '-111.72000.txt', '-111.72000'], ['bcqc', '39.89000', '-110.75000.txt', '-110.75000'], ['bcqc', '39.88000', '-107.60000.txt', '-107.60000'], ['bcqc', '39.87000', '-111.28000.txt', '-111.28000'], ['bcqc', '39.87000', '-105.87000.txt', '-105.87000'], ['bcqc', '39.72000', '-106.16000.txt', '-106.16000'], ['bcqc', '39.80000', '-105.78000.txt', '-105.78000'], ['bcqc', '39.68000', '-111.32000.txt', '-111.32000'], ['bcqc', '39.76000', '-105.91000.txt', '-105.91000'], ['bcqc', '39.67000', '-105.90000.txt', '-105.90000'], ['bcqc', '39.80000', '-106.03000.txt', '-106.03000'], ['bcqc', '39.76000', '-107.36000.txt', '-107.36000'], ['bcqc', '39.86000', '-106.42000.txt', '-106.42000'], ['bcqc', '39.68000', '-110.43000.txt', '-110.43000'], ['bcqc', '39.74000', '-113.98000.txt', '-113.98000'], ['bcqc', '39.62000', '-106.38000.txt', '-106.38000'], ['bcqc', '39.65000', '-105.87000.txt', '-105.87000'], ['bcqc', '40.36000', '-111.09000.txt', '-111.09000'], ['bcqc', '40.36000', '-116.86000.txt', '-116.86000'], ['bcqc', '40.37000', '-106.74000.txt', '-106.74000'], ['bcqc', '40.40000', '-105.96000.txt', '-105.96000'], ['bcqc', '40.35000', '-106.38000.txt', '-106.38000'], ['bcqc', '40.19000', '-111.36000.txt', '-111.36000'], ['bcqc', '40.35000', '-106.09000.txt', '-106.09000'], ['bcqc', '40.31000', '-105.64000.txt', '-105.64000'], ['bcqc', '40.28000', '-111.61000.txt', '-111.61000'], ['bcqc', '40.30000', '-111.26000.txt', '-111.26000'], ['bcqc', '40.28000', '-115.54000.txt', '-115.54000'], ['bcqc', '40.23000', '-106.60000.txt', '-106.60000'], ['bcqc', '40.23000', '-105.92000.txt', '-105.92000'], ['bcqc', '40.16000', '-111.21000.txt', '-111.21000'], ['bcqc', '40.21000', '-105.57000.txt', '-105.57000'], ['bcqc', '40.20000', '-105.60000.txt', '-105.60000'], ['bcqc', '40.11000', '-107.29000.txt', '-107.29000'], ['bcqc', '40.03000', '-105.58000.txt', '-105.58000'], ['bcqc', '40.08000', '-106.67000.txt', '-106.67000'], ['bcqc', '40.04000', '-105.54000.txt', '-105.54000'], ['bcqc', '40.17000', '-107.06000.txt', '-107.06000'], ['bcqc', '40.00000', '-107.24000.txt', '-107.24000'], ['bcqc', '40.06000', '-107.01000.txt', '-107.01000'], ['bcqc', '40.14000', '-105.59000.txt', '-105.59000'], ['bcqc', '40.57000', '-112.17000.txt', '-112.17000'], ['bcqc', '40.60000', '-110.43000.txt', '-110.43000'], ['bcqc', '40.58000', '-105.63000.txt', '-105.63000'], ['bcqc', '40.57000', '-111.66000.txt', '-111.66000'], ['bcqc', '40.54000', '-106.68000.txt', '-106.68000'], ['bcqc', '40.55000', '-110.69000.txt', '-110.69000'], ['bcqc', '40.53000', '-105.89000.txt', '-105.89000'], ['bcqc', '40.53000', '-106.78000.txt', '-106.78000'], ['bcqc', '40.44000', '-112.24000.txt', '-112.24000'], ['bcqc', '40.43000', '-111.62000.txt', '-111.62000'], ['bcqc', '40.55000', '-110.35000.txt', '-110.35000'], ['bcqc', '40.51000', '-105.77000.txt', '-105.77000'], ['bcqc', '40.49000', '-112.61000.txt', '-112.61000'], ['bcqc', '40.46000', '-112.25000.txt', '-112.25000'], ['bcqc', '40.39000', '-106.60000.txt', '-106.60000'], ['bcqc', '40.43000', '-105.73000.txt', '-105.73000'], ['bcqc', '40.41000', '-105.82000.txt', '-105.82000'], ['bcqc', '40.40000', '-105.85000.txt', '-105.85000'], ['bcqc', '40.38000', '-115.53000.txt', '-115.53000'], ['bcqc', '40.79000', '-111.12000.txt', '-111.12000'], ['bcqc', '40.84000', '-110.66000.txt', '-110.66000'], ['bcqc', '40.84000', '-110.01000.txt', '-110.01000'], ['bcqc', '40.82000', '-106.75000.txt', '-106.75000'], ['bcqc', '40.83000', '-111.76000.txt', '-111.76000'], ['bcqc', '40.80000', '-107.10000.txt', '-107.10000'], ['bcqc', '40.79000', '-106.60000.txt', '-106.60000'], ['bcqc', '40.68000', '-110.95000.txt', '-110.95000'], ['bcqc', '40.76000', '-111.63000.txt', '-111.63000'], ['bcqc', '40.72000', '-110.47000.txt', '-110.47000'], ['bcqc', '40.74000', '-110.62000.txt', '-110.62000'], ['bcqc', '40.72000', '-109.54000.txt', '-109.54000'], ['bcqc', '40.74000', '-109.67000.txt', '-109.67000'], ['bcqc', '40.66000', '-111.64000.txt', '-111.64000'], ['bcqc', '40.71000', '-106.01000.txt', '-106.01000'], ['bcqc', '40.69000', '-120.61000.txt', '-120.61000'], ['bcqc', '40.67000', '-111.22000.txt', '-111.22000'], ['bcqc', '40.61000', '-111.10000.txt', '-111.10000'], ['bcqc', '40.64000', '-115.38000.txt', '-115.38000'], ['bcqc', '40.61000', '-109.89000.txt', '-109.89000'], ['bcqc', '40.62000', '-111.53000.txt', '-111.53000'], ['bcqc', '40.58000', '-110.59000.txt', '-110.59000'], ['bcqc', '40.60000', '-111.58000.txt', '-111.58000'], ['bcqc', '40.89000', '-115.21000.txt', '-115.21000'], ['bcqc', '40.94000', '-115.10000.txt', '-115.10000'], ['bcqc', '40.91000', '-110.50000.txt', '-110.50000'], ['bcqc', '40.93000', '-111.81000.txt', '-111.81000'], ['bcqc', '40.89000', '-110.83000.txt', '-110.83000'], ['bcqc', '40.89000', '-111.07000.txt', '-111.07000'], ['bcqc', '40.95000', '-110.48000.txt', '-110.48000'], ['bcqc', '40.92000', '-110.19000.txt', '-110.19000'], ['bcqc', '40.91000', '-109.96000.txt', '-109.96000'], ['bcqc', '40.89000', '-105.66000.txt', '-105.66000'], ['bcqc', '40.88000', '-106.05000.txt', '-106.05000'], ['bcqc', '40.86000', '-110.80000.txt', '-110.80000'], ['bcqc', '40.85000', '-106.97000.txt', '-106.97000'], ['bcqc', '40.85000', '-111.05000.txt', '-111.05000'], ['bcqc', '40.84000', '-111.71000.txt', '-111.71000'], ['bcqc', '40.87000', '-111.72000.txt', '-111.72000'], ['bcqc', '40.88000', '-117.59000.txt', '-117.59000'], ['bcqc', '40.86000', '-115.12000.txt', '-115.12000'], ['bcqc', '40.88000', '-110.54000.txt', '-110.54000'], ['bcqc', '40.86000', '-115.22000.txt', '-115.22000'], ['bcqc', '40.77000', '-110.01000.txt', '-110.01000'], ['bcqc', '40.81000', '-105.77000.txt', '-105.77000'], ['bcqc', '40.80000', '-110.88000.txt', '-110.88000'], ['bcqc', '41.36000', '-111.49000.txt', '-111.49000'], ['bcqc', '41.40000', '-107.26000.txt', '-107.26000'], ['bcqc', '41.38000', '-106.35000.txt', '-106.35000'], ['bcqc', '41.23000', '-116.03000.txt', '-116.03000'], ['bcqc', '41.30000', '-107.15000.txt', '-107.15000'], ['bcqc', '41.31000', '-111.45000.txt', '-111.45000'], ['bcqc', '41.24000', '-120.79000.txt', '-120.79000'], ['bcqc', '41.16000', '-106.93000.txt', '-106.93000'], ['bcqc', '41.24000', '-106.23000.txt', '-106.23000'], ['bcqc', '41.23000', '-105.38000.txt', '-105.38000'], ['bcqc', '41.32000', '-116.34000.txt', '-116.34000'], ['bcqc', '41.22000', '-111.36000.txt', '-111.36000'], ['bcqc', '41.15000', '-106.97000.txt', '-106.97000'], ['bcqc', '41.25000', '-111.41000.txt', '-111.41000'], ['bcqc', '41.11000', '-107.17000.txt', '-107.17000'], ['bcqc', '41.07000', '-106.94000.txt', '-106.94000'], ['bcqc', '41.05000', '-107.27000.txt', '-107.27000'], ['bcqc', '41.00000', '-106.91000.txt', '-106.91000'], ['bcqc', '40.98000', '-110.85000.txt', '-110.85000'], ['bcqc', '40.99000', '-111.82000.txt', '-111.82000'], ['bcqc', '41.06000', '-106.71000.txt', '-106.71000'], ['bcqc', '40.97000', '-111.81000.txt', '-111.81000'], ['bcqc', '40.96000', '-110.58000.txt', '-110.58000'], ['bcqc', '41.75000', '-117.53000.txt', '-117.53000'], ['bcqc', '41.74000', '-115.47000.txt', '-115.47000'], ['bcqc', '41.86000', '-115.08000.txt', '-115.08000'], ['bcqc', '41.79000', '-111.55000.txt', '-111.55000'], ['bcqc', '41.86000', '-111.51000.txt', '-111.51000'], ['bcqc', '41.52000', '-117.63000.txt', '-117.63000'], ['bcqc', '41.58000', '-120.30000.txt', '-120.30000'], ['bcqc', '41.68000', '-111.42000.txt', '-111.42000'], ['bcqc', '41.67000', '-117.57000.txt', '-117.57000'], ['bcqc', '41.55000', '-116.01000.txt', '-116.01000'], ['bcqc', '41.47000', '-111.50000.txt', '-111.50000'], ['bcqc', '41.46000', '-106.28000.txt', '-106.28000'], ['bcqc', '41.66000', '-115.32000.txt', '-115.32000'], ['bcqc', '41.49000', '-119.00000.txt', '-119.00000'], ['bcqc', '41.58000', '-115.93000.txt', '-115.93000'], ['bcqc', '41.33000', '-106.38000.txt', '-106.38000'], ['bcqc', '41.33000', '-106.50000.txt', '-106.50000'], ['bcqc', '41.38000', '-111.92000.txt', '-111.92000'], ['bcqc', '41.41000', '-111.54000.txt', '-111.54000'], ['bcqc', '41.41000', '-111.83000.txt', '-111.83000'], ['bcqc', '41.38000', '-111.94000.txt', '-111.94000'], ['bcqc', '41.36000', '-106.23000.txt', '-106.23000'], ['bcqc', '42.18000', '-114.29000.txt', '-114.29000'], ['bcqc', '42.05000', '-122.85000.txt', '-122.85000'], ['bcqc', '42.13000', '-120.84000.txt', '-120.84000'], ['bcqc', '42.08000', '-123.34000.txt', '-123.34000'], ['bcqc', '42.05000', '-111.60000.txt', '-111.60000'], ['bcqc', '42.21000', '-121.13000.txt', '-121.13000'], ['bcqc', '42.22000', '-122.37000.txt', '-122.37000'], ['bcqc', '41.97000', '-118.19000.txt', '-118.19000'], ['bcqc', '41.99000', '-120.18000.txt', '-120.18000'], ['bcqc', '41.90000', '-111.63000.txt', '-111.63000'], ['bcqc', '42.01000', '-115.00000.txt', '-115.00000'], ['bcqc', '41.92000', '-113.41000.txt', '-113.41000'], ['bcqc', '41.89000', '-120.75000.txt', '-120.75000'], ['bcqc', '41.92000', '-111.47000.txt', '-111.47000'], ['bcqc', '41.97000', '-111.60000.txt', '-111.60000'], ['bcqc', '41.89000', '-111.57000.txt', '-111.57000'], ['bcqc', '41.99000', '-120.72000.txt', '-120.72000'], ['bcqc', '41.82000', '-116.10000.txt', '-116.10000'], ['bcqc', '41.83000', '-115.45000.txt', '-115.45000'], ['bcqc', '41.76000', '-115.69000.txt', '-115.69000'], ['bcqc', '41.87000', '-115.25000.txt', '-115.25000'], ['bcqc', '41.78000', '-116.03000.txt', '-116.03000'], ['bcqc', '42.57000', '-108.84000.txt', '-108.84000'], ['bcqc', '42.51000', '-110.91000.txt', '-110.91000'], ['bcqc', '42.49000', '-110.53000.txt', '-110.53000'], ['bcqc', '42.44000', '-122.23000.txt', '-122.23000'], ['bcqc', '42.44000', '-105.86000.txt', '-105.86000'], ['bcqc', '42.41000', '-122.27000.txt', '-122.27000'], ['bcqc', '42.52000', '-111.96000.txt', '-111.96000'], ['bcqc', '42.36000', '-111.56000.txt', '-111.56000'], ['bcqc', '42.38000', '-122.35000.txt', '-122.35000'], ['bcqc', '42.41000', '-111.17000.txt', '-111.17000'], ['bcqc', '42.32000', '-113.62000.txt', '-113.62000'], ['bcqc', '42.32000', '-120.83000.txt', '-120.83000'], ['bcqc', '42.27000', '-110.81000.txt', '-110.81000'], ['bcqc', '42.28000', '-105.58000.txt', '-105.58000'], ['bcqc', '42.30000', '-110.68000.txt', '-110.68000'], ['bcqc', '42.41000', '-121.68000.txt', '-121.68000'], ['bcqc', '42.15000', '-110.68000.txt', '-110.68000'], ['bcqc', '42.26000', '-112.13000.txt', '-112.13000'], ['bcqc', '42.16000', '-114.19000.txt', '-114.19000'], ['bcqc', '42.72000', '-123.20000.txt', '-123.20000'], ['bcqc', '42.79000', '-121.98000.txt', '-121.98000'], ['bcqc', '42.76000', '-110.59000.txt', '-110.59000'], ['bcqc', '42.71000', '-118.63000.txt', '-118.63000'], ['bcqc', '42.71000', '-109.41000.txt', '-109.41000'], ['bcqc', '42.70000', '-122.14000.txt', '-122.14000'], ['bcqc', '42.69000', '-121.43000.txt', '-121.43000'], ['bcqc', '42.65000', '-109.26000.txt', '-109.26000'], ['bcqc', '42.65000', '-110.81000.txt', '-110.81000'], ['bcqc', '42.70000', '-120.80000.txt', '-120.80000'], ['bcqc', '42.70000', '-108.90000.txt', '-108.90000'], ['bcqc', '42.60000', '-116.56000.txt', '-116.56000'], ['bcqc', '42.59000', '-108.90000.txt', '-108.90000'], ['bcqc', '42.64000', '-120.95000.txt', '-120.95000'], ['bcqc', '42.58000', '-109.09000.txt', '-109.09000'], ['bcqc', '42.53000', '-110.66000.txt', '-110.66000'], ['bcqc', '42.57000', '-106.09000.txt', '-106.09000'], ['bcqc', '42.53000', '-122.18000.txt', '-122.18000'], ['bcqc', '42.56000', '-111.30000.txt', '-111.30000'], ['bcqc', '43.38000', '-109.88000.txt', '-109.88000'], ['bcqc', '43.21000', '-111.69000.txt', '-111.69000'], ['bcqc', '43.23000', '-121.81000.txt', '-121.81000'], ['bcqc', '43.29000', '-116.85000.txt', '-116.85000'], ['bcqc', '43.17000', '-110.14000.txt', '-110.14000'], ['bcqc', '43.23000', '-122.43000.txt', '-122.43000'], ['bcqc', '43.11000', '-109.95000.txt', '-109.95000'], ['bcqc', '42.96000', '-121.18000.txt', '-121.18000'], ['bcqc', '42.87000', '-109.09000.txt', '-109.09000'], ['bcqc', '43.01000', '-109.76000.txt', '-109.76000'], ['bcqc', '42.96000', '-110.61000.txt', '-110.61000'], ['bcqc', '42.95000', '-111.36000.txt', '-111.36000'], ['bcqc', '43.13000', '-110.20000.txt', '-110.20000'], ['bcqc', '42.87000', '-122.17000.txt', '-122.17000'], ['bcqc', '43.03000', '-109.17000.txt', '-109.17000'], ['bcqc', '42.76000', '-116.90000.txt', '-116.90000'], ['bcqc', '42.82000', '-110.84000.txt', '-110.84000'], ['bcqc', '42.76000', '-112.48000.txt', '-112.48000'], ['bcqc', '42.73000', '-106.32000.txt', '-106.32000'], ['bcqc', '42.75000', '-118.69000.txt', '-118.69000'], ['bcqc', '43.60000', '-114.67000.txt', '-114.67000'], ['bcqc', '43.63000', '-115.44000.txt', '-115.44000'], ['bcqc', '43.67000', '-109.38000.txt', '-109.38000'], ['bcqc', '43.61000', '-113.93000.txt', '-113.93000'], ['bcqc', '43.51000', '-121.98000.txt', '-121.98000'], ['bcqc', '43.45000', '-122.14000.txt', '-122.14000'], ['bcqc', '43.50000', '-109.75000.txt', '-109.75000'], ['bcqc', '43.59000', '-122.06000.txt', '-122.06000'], ['bcqc', '43.52000', '-110.91000.txt', '-110.91000'], ['bcqc', '43.57000', '-111.21000.txt', '-111.21000'], ['bcqc', '43.51000', '-115.57000.txt', '-115.57000'], ['bcqc', '43.48000', '-114.83000.txt', '-114.83000'], ['bcqc', '43.39000', '-110.13000.txt', '-110.13000'], ['bcqc', '43.47000', '-107.24000.txt', '-107.24000'], ['bcqc', '43.28000', '-109.45000.txt', '-109.45000'], ['bcqc', '43.34000', '-110.43000.txt', '-110.43000'], ['bcqc', '43.25000', '-110.02000.txt', '-110.02000'], ['bcqc', '43.19000', '-122.14000.txt', '-122.14000'], ['bcqc', '43.27000', '-115.35000.txt', '-115.35000'], ['bcqc', '43.86000', '-109.32000.txt', '-109.32000'], ['bcqc', '43.87000', '-114.71000.txt', '-114.71000'], ['bcqc', '43.86000', '-114.21000.txt', '-114.21000'], ['bcqc', '43.78000', '-110.93000.txt', '-110.93000'], ['bcqc', '43.80000', '-114.85000.txt', '-114.85000'], ['bcqc', '43.77000', '-114.42000.txt', '-114.42000'], ['bcqc', '43.76000', '-116.10000.txt', '-116.10000'], ['bcqc', '43.76000', '-115.24000.txt', '-115.24000'], ['bcqc', '43.75000', '-110.06000.txt', '-110.06000'], ['bcqc', '43.74000', '-113.94000.txt', '-113.94000'], ['bcqc', '43.73000', '-113.83000.txt', '-113.83000'], ['bcqc', '43.71000', '-114.16000.txt', '-114.16000'], ['bcqc', '43.70000', '-109.67000.txt', '-109.67000'], ['bcqc', '43.61000', '-122.12000.txt', '-122.12000'], ['bcqc', '43.66000', '-122.21000.txt', '-122.21000'], ['bcqc', '43.66000', '-109.01000.txt', '-109.01000'], ['bcqc', '43.63000', '-113.97000.txt', '-113.97000'], ['bcqc', '43.67000', '-122.57000.txt', '-122.57000'], ['bcqc', '43.63000', '-107.18000.txt', '-107.18000'], ['bcqc', '44.21000', '-103.79000.txt', '-103.79000'], ['bcqc', '44.13000', '-110.83000.txt', '-110.83000'], ['bcqc', '44.02000', '-113.47000.txt', '-113.47000'], ['bcqc', '43.95000', '-110.45000.txt', '-110.45000'], ['bcqc', '43.95000', '-115.27000.txt', '-115.27000'], ['bcqc', '44.05000', '-115.44000.txt', '-115.44000'], ['bcqc', '44.03000', '-109.18000.txt', '-109.18000'], ['bcqc', '44.01000', '-118.84000.txt', '-118.84000'], ['bcqc', '43.95000', '-119.54000.txt', '-119.54000'], ['bcqc', '44.13000', '-110.67000.txt', '-110.67000'], ['bcqc', '44.11000', '-103.98000.txt', '-103.98000'], ['bcqc', '43.89000', '-107.06000.txt', '-107.06000'], ['bcqc', '43.82000', '-114.26000.txt', '-114.26000'], ['bcqc', '43.93000', '-115.67000.txt', '-115.67000'], ['bcqc', '43.80000', '-121.95000.txt', '-121.95000'], ['bcqc', '43.93000', '-109.82000.txt', '-109.82000'], ['bcqc', '43.90000', '-122.03000.txt', '-122.03000'], ['bcqc', '43.88000', '-114.67000.txt', '-114.67000'], ['bcqc', '44.40000', '-107.06000.txt', '-107.06000'], ['bcqc', '44.46000', '-110.14000.txt', '-110.14000'], ['bcqc', '44.30000', '-115.23000.txt', '-115.23000'], ['bcqc', '44.39000', '-122.17000.txt', '-122.17000'], ['bcqc', '44.38000', '-109.79000.txt', '-109.79000'], ['bcqc', '44.29000', '-115.66000.txt', '-115.66000'], ['bcqc', '44.30000', '-109.24000.txt', '-109.24000'], ['bcqc', '44.37000', '-110.58000.txt', '-110.58000'], ['bcqc', '44.30000', '-122.04000.txt', '-122.04000'], ['bcqc', '44.35000', '-107.01000.txt', '-107.01000'], ['bcqc', '44.38000', '-116.34000.txt', '-116.34000'], ['bcqc', '44.33000', '-122.09000.txt', '-122.09000'], ['bcqc', '44.26000', '-119.02000.txt', '-119.02000'], ['bcqc', '44.26000', '-106.98000.txt', '-106.98000'], ['bcqc', '44.25000', '-118.52000.txt', '-118.52000'], ['bcqc', '44.21000', '-121.87000.txt', '-121.87000'], ['bcqc', '44.21000', '-118.64000.txt', '-118.64000'], ['bcqc', '44.15000', '-110.22000.txt', '-110.22000'], ['bcqc', '44.16000', '-107.13000.txt', '-107.13000'], ['bcqc', '44.21000', '-110.67000.txt', '-110.67000'], ['bcqc', '44.14000', '-121.64000.txt', '-121.64000'], ['bcqc', '44.51000', '-111.13000.txt', '-111.13000'], ['bcqc', '44.52000', '-122.09000.txt', '-122.09000'], ['bcqc', '44.50000', '-107.43000.txt', '-107.43000'], ['bcqc', '44.54000', '-115.56000.txt', '-115.56000'], ['bcqc', '44.53000', '-111.41000.txt', '-111.41000'], ['bcqc', '44.47000', '-112.98000.txt', '-112.98000'], ['bcqc', '44.48000', '-110.16000.txt', '-110.16000'], ['bcqc', '44.47000', '-114.49000.txt', '-114.49000'], ['bcqc', '44.49000', '-104.41000.txt', '-104.41000'], ['bcqc', '44.54000', '-107.18000.txt', '-107.18000'], ['bcqc', '44.44000', '-111.99000.txt', '-111.99000'], ['bcqc', '44.42000', '-121.86000.txt', '-121.86000'], ['bcqc', '44.44000', '-121.95000.txt', '-121.95000'], ['bcqc', '44.42000', '-111.39000.txt', '-111.39000'], ['bcqc', '44.45000', '-119.93000.txt', '-119.93000'], ['bcqc', '44.43000', '-120.33000.txt', '-120.33000'], ['bcqc', '44.41000', '-113.40000.txt', '-113.40000'], ['bcqc', '44.44000', '-113.32000.txt', '-113.32000'], ['bcqc', '44.77000', '-116.25000.txt', '-116.25000'], ['bcqc', '44.76000', '-118.31000.txt', '-118.31000'], ['bcqc', '44.72000', '-107.40000.txt', '-107.40000'], ['bcqc', '44.72000', '-110.51000.txt', '-110.51000'], ['bcqc', '44.68000', '-107.58000.txt', '-107.58000'], ['bcqc', '44.66000', '-118.43000.txt', '-118.43000'], ['bcqc', '44.79000', '-107.53000.txt', '-107.53000'], ['bcqc', '44.73000', '-109.91000.txt', '-109.91000'], ['bcqc', '44.61000', '-111.15000.txt', '-111.15000'], ['bcqc', '44.59000', '-111.12000.txt', '-111.12000'], ['bcqc', '44.59000', '-111.82000.txt', '-111.82000'], ['bcqc', '44.61000', '-116.98000.txt', '-116.98000'], ['bcqc', '44.61000', '-122.23000.txt', '-122.23000'], ['bcqc', '44.65000', '-109.78000.txt', '-109.78000'], ['bcqc', '44.63000', '-115.79000.txt', '-115.79000'], ['bcqc', '44.59000', '-121.97000.txt', '-121.97000'], ['bcqc', '44.57000', '-107.30000.txt', '-107.30000'], ['bcqc', '44.58000', '-107.20000.txt', '-107.20000'], ['bcqc', '45.00000', '-117.17000.txt', '-117.17000'], ['bcqc', '45.04000', '-121.93000.txt', '-121.93000'], ['bcqc', '45.02000', '-111.85000.txt', '-111.85000'], ['bcqc', '44.95000', '-116.14000.txt', '-116.14000'], ['bcqc', '45.04000', '-116.13000.txt', '-116.13000'], ['bcqc', '44.98000', '-111.95000.txt', '-111.95000'], ['bcqc', '44.79000', '-112.06000.txt', '-112.06000'], ['bcqc', '44.94000', '-109.57000.txt', '-109.57000'], ['bcqc', '44.84000', '-114.27000.txt', '-114.27000'], ['bcqc', '44.83000', '-118.19000.txt', '-118.19000'], ['bcqc', '44.87000', '-118.11000.txt', '-118.11000'], ['bcqc', '44.80000', '-107.84000.txt', '-107.84000'], ['bcqc', '44.81000', '-107.41000.txt', '-107.41000'], ['bcqc', '44.80000', '-109.66000.txt', '-109.66000'], ['bcqc', '44.85000', '-113.84000.txt', '-113.84000'], ['bcqc', '44.79000', '-116.09000.txt', '-116.09000'], ['bcqc', '44.79000', '-111.71000.txt', '-111.71000'], ['bcqc', '44.66000', '-111.09000.txt', '-111.09000'], ['bcqc', '45.19000', '-118.55000.txt', '-118.55000'], ['bcqc', '45.22000', '-110.24000.txt', '-110.24000'], ['bcqc', '45.25000', '-123.28000.txt', '-123.28000'], ['bcqc', '45.24000', '-109.46000.txt', '-109.46000'], ['bcqc', '45.06000', '-109.94000.txt', '-109.94000'], ['bcqc', '45.05000', '-109.91000.txt', '-109.91000'], ['bcqc', '45.17000', '-113.50000.txt', '-113.50000'], ['bcqc', '45.15000', '-118.22000.txt', '-118.22000'], ['bcqc', '45.17000', '-113.58000.txt', '-113.58000'], ['bcqc', '45.10000', '-121.75000.txt', '-121.75000'], ['bcqc', '45.08000', '-117.55000.txt', '-117.55000'], ['bcqc', '45.11000', '-119.50000.txt', '-119.50000'], ['bcqc', '45.07000', '-116.45000.txt', '-116.45000'], ['bcqc', '45.07000', '-118.15000.txt', '-118.15000'], ['bcqc', '44.99000', '-113.44000.txt', '-113.44000'], ['bcqc', '45.01000', '-110.01000.txt', '-110.01000'], ['bcqc', '44.95000', '-111.36000.txt', '-111.36000'], ['bcqc', '44.96000', '-111.29000.txt', '-111.29000'], ['bcqc', '45.40000', '-110.96000.txt', '-110.96000'], ['bcqc', '45.50000', '-110.08000.txt', '-110.08000'], ['bcqc', '45.27000', '-118.85000.txt', '-118.85000'], ['bcqc', '45.41000', '-112.96000.txt', '-112.96000'], ['bcqc', '45.32000', '-121.72000.txt', '-121.72000'], ['bcqc', '45.36000', '-118.47000.txt', '-118.47000'], ['bcqc', '45.42000', '-110.09000.txt', '-110.09000'], ['bcqc', '45.27000', '-117.69000.txt', '-117.69000'], ['bcqc', '45.27000', '-117.17000.txt', '-117.17000'], ['bcqc', '45.27000', '-110.25000.txt', '-110.25000'], ['bcqc', '45.27000', '-111.43000.txt', '-111.43000'], ['bcqc', '45.19000', '-109.35000.txt', '-109.35000'], ['bcqc', '45.19000', '-115.97000.txt', '-115.97000'], ['bcqc', '45.25000', '-121.74000.txt', '-121.74000'], ['bcqc', '45.19000', '-121.69000.txt', '-121.69000'], ['bcqc', '45.21000', '-117.19000.txt', '-117.19000'], ['bcqc', '45.19000', '-119.25000.txt', '-119.25000'], ['bcqc', '45.69000', '-113.97000.txt', '-113.97000'], ['bcqc', '45.88000', '-113.33000.txt', '-113.33000'], ['bcqc', '45.70000', '-118.11000.txt', '-118.11000'], ['bcqc', '45.67000', '-113.95000.txt', '-113.95000'], ['bcqc', '45.62000', '-121.70000.txt', '-121.70000'], ['bcqc', '45.80000', '-112.52000.txt', '-112.52000'], ['bcqc', '45.70000', '-115.23000.txt', '-115.23000'], ['bcqc', '45.60000', '-111.96000.txt', '-111.96000'], ['bcqc', '45.87000', '-110.93000.txt', '-110.93000'], ['bcqc', '45.50000', '-110.97000.txt', '-110.97000'], ['bcqc', '45.53000', '-123.30000.txt', '-123.30000'], ['bcqc', '45.55000', '-122.00000.txt', '-122.00000'], ['bcqc', '45.46000', '-121.70000.txt', '-121.70000'], ['bcqc', '45.56000', '-118.45000.txt', '-118.45000'], ['bcqc', '45.54000', '-123.37000.txt', '-123.37000'], ['bcqc', '45.51000', '-111.92000.txt', '-111.92000'], ['bcqc', '45.43000', '-121.86000.txt', '-121.86000'], ['bcqc', '45.45000', '-122.03000.txt', '-122.03000'], ['bcqc', '46.13000', '-113.31000.txt', '-113.31000'], ['bcqc', '46.14000', '-114.51000.txt', '-114.51000'], ['bcqc', '46.14000', '-114.45000.txt', '-114.45000'], ['bcqc', '46.18000', '-121.93000.txt', '-121.93000'], ['bcqc', '46.12000', '-117.85000.txt', '-117.85000'], ['bcqc', '46.19000', '-122.25000.txt', '-122.25000'], ['bcqc', '46.18000', '-113.85000.txt', '-113.85000'], ['bcqc', '46.15000', '-122.15000.txt', '-122.15000'], ['bcqc', '46.18000', '-117.54000.txt', '-117.54000'], ['bcqc', '46.16000', '-122.18000.txt', '-122.18000'], ['bcqc', '46.11000', '-110.47000.txt', '-110.47000'], ['bcqc', '46.09000', '-110.43000.txt', '-110.43000'], ['bcqc', '46.09000', '-121.76000.txt', '-121.76000'], ['bcqc', '46.10000', '-121.96000.txt', '-121.96000'], ['bcqc', '45.99000', '-120.81000.txt', '-120.81000'], ['bcqc', '46.10000', '-113.13000.txt', '-113.13000'], ['bcqc', '45.89000', '-110.94000.txt', '-110.94000'], ['bcqc', '45.90000', '-122.22000.txt', '-122.22000'], ['bcqc', '45.98000', '-117.95000.txt', '-117.95000'], ['bcqc', '45.99000', '-120.68000.txt', '-120.68000'], ['bcqc', '45.73000', '-114.48000.txt', '-114.48000'], ['bcqc', '46.41000', '-113.43000.txt', '-113.43000'], ['bcqc', '46.44000', '-112.19000.txt', '-112.19000'], ['bcqc', '46.47000', '-113.39000.txt', '-113.39000'], ['bcqc', '46.56000', '-115.29000.txt', '-115.29000'], ['bcqc', '46.48000', '-115.63000.txt', '-115.63000'], ['bcqc', '46.56000', '-111.29000.txt', '-111.29000'], ['bcqc', '46.55000', '-121.17000.txt', '-121.17000'], ['bcqc', '46.47000', '-114.63000.txt', '-114.63000'], ['bcqc', '46.48000', '-110.71000.txt', '-110.71000'], ['bcqc', '46.49000', '-115.80000.txt', '-115.80000'], ['bcqc', '46.36000', '-112.26000.txt', '-112.26000'], ['bcqc', '46.24000', '-113.77000.txt', '-113.77000'], ['bcqc', '46.27000', '-121.96000.txt', '-121.96000'], ['bcqc', '46.27000', '-113.16000.txt', '-113.16000'], ['bcqc', '46.35000', '-121.51000.txt', '-121.51000'], ['bcqc', '46.26000', '-122.18000.txt', '-122.18000'], ['bcqc', '46.35000', '-111.85000.txt', '-111.85000'], ['bcqc', '46.32000', '-121.94000.txt', '-121.94000'], ['bcqc', '46.36000', '-121.08000.txt', '-121.08000'], ['bcqc', '46.24000', '-117.39000.txt', '-117.39000'], ['bcqc', '46.88000', '-113.32000.txt', '-113.32000'], ['bcqc', '46.87000', '-113.28000.txt', '-113.28000'], ['bcqc', '46.79000', '-110.68000.txt', '-110.68000'], ['bcqc', '46.81000', '-121.33000.txt', '-121.33000'], ['bcqc', '46.84000', '-116.12000.txt', '-116.12000'], ['bcqc', '46.79000', '-109.51000.txt', '-109.51000'], ['bcqc', '46.91000', '-110.85000.txt', '-110.85000'], ['bcqc', '46.81000', '-116.85000.txt', '-116.85000'], ['bcqc', '46.84000', '-112.51000.txt', '-112.51000'], ['bcqc', '46.87000', '-121.53000.txt', '-121.53000'], ['bcqc', '46.78000', '-110.62000.txt', '-110.62000'], ['bcqc', '46.78000', '-121.75000.txt', '-121.75000'], ['bcqc', '46.58000', '-111.27000.txt', '-111.27000'], ['bcqc', '46.64000', '-121.38000.txt', '-121.38000'], ['bcqc', '46.57000', '-115.74000.txt', '-115.74000'], ['bcqc', '46.63000', '-114.58000.txt', '-114.58000'], ['bcqc', '46.62000', '-121.39000.txt', '-121.39000'], ['bcqc', '46.76000', '-115.30000.txt', '-115.30000'], ['bcqc', '46.67000', '-110.33000.txt', '-110.33000'], ['bcqc', '46.64000', '-121.83000.txt', '-121.83000'], ['bcqc', '47.28000', '-121.47000.txt', '-121.47000'], ['bcqc', '47.28000', '-120.49000.txt', '-120.49000'], ['bcqc', '47.08000', '-112.73000.txt', '-112.73000'], ['bcqc', '47.27000', '-121.34000.txt', '-121.34000'], ['bcqc', '47.23000', '-120.29000.txt', '-120.29000'], ['bcqc', '47.27000', '-113.76000.txt', '-113.76000'], ['bcqc', '47.07000', '-121.59000.txt', '-121.59000'], ['bcqc', '47.18000', '-114.33000.txt', '-114.33000'], ['bcqc', '47.15000', '-116.27000.txt', '-116.27000'], ['bcqc', '47.16000', '-121.42000.txt', '-121.42000'], ['bcqc', '47.20000', '-121.78000.txt', '-121.78000'], ['bcqc', '46.98000', '-115.03000.txt', '-115.03000'], ['bcqc', '46.91000', '-121.48000.txt', '-121.48000'], ['bcqc', '47.02000', '-121.46000.txt', '-121.46000'], ['bcqc', '47.06000', '-112.60000.txt', '-112.60000'], ['bcqc', '47.04000', '-121.94000.txt', '-121.94000'], ['bcqc', '47.07000', '-115.96000.txt', '-115.96000'], ['bcqc', '47.00000', '-113.93000.txt', '-113.93000'], ['bcqc', '46.93000', '-110.90000.txt', '-110.90000'], ['bcqc', '46.95000', '-116.34000.txt', '-116.34000'], ['bcqc', '46.93000', '-121.95000.txt', '-121.95000'], ['bcqc', '47.98000', '-114.35000.txt', '-114.35000'], ['bcqc', '47.86000', '-117.04000.txt', '-117.04000'], ['bcqc', '47.75000', '-121.09000.txt', '-121.09000'], ['bcqc', '47.56000', '-115.82000.txt', '-115.82000'], ['bcqc', '47.45000', '-112.81000.txt', '-112.81000'], ['bcqc', '47.54000', '-121.09000.txt', '-121.09000'], ['bcqc', '47.46000', '-115.71000.txt', '-115.71000'], ['bcqc', '47.53000', '-115.78000.txt', '-115.78000'], ['bcqc', '47.68000', '-113.96000.txt', '-113.96000'], ['bcqc', '47.68000', '-114.00000.txt', '-114.00000'], ['bcqc', '47.68000', '-121.61000.txt', '-121.61000'], ['bcqc', '47.71000', '-123.46000.txt', '-123.46000'], ['bcqc', '47.35000', '-120.68000.txt', '-120.68000'], ['bcqc', '47.43000', '-113.78000.txt', '-113.78000'], ['bcqc', '47.37000', '-121.44000.txt', '-121.44000'], ['bcqc', '47.38000', '-121.06000.txt', '-121.06000'], ['bcqc', '47.28000', '-121.67000.txt', '-121.67000'], ['bcqc', '47.29000', '-120.37000.txt', '-120.37000'], ['bcqc', '47.36000', '-121.57000.txt', '-121.57000'], ['bcqc', '47.33000', '-121.47000.txt', '-121.47000'], ['bcqc', '47.30000', '-121.60000.txt', '-121.60000'], ['bcqc', '48.36000', '-119.08000.txt', '-119.08000'], ['bcqc', '48.57000', '-120.78000.txt', '-120.78000'], ['bcqc', '48.17000', '-109.65000.txt', '-109.65000'], ['bcqc', '48.13000', '-115.62000.txt', '-115.62000'], ['bcqc', '48.30000', '-113.33000.txt', '-113.33000'], ['bcqc', '48.20000', '-120.92000.txt', '-120.92000'], ['bcqc', '48.16000', '-113.95000.txt', '-113.95000'], ['bcqc', '48.13000', '-113.02000.txt', '-113.02000'], ['bcqc', '48.07000', '-120.85000.txt', '-120.85000'], ['bcqc', '48.06000', '-116.23000.txt', '-116.23000'], ['bcqc', '48.06000', '-112.76000.txt', '-112.76000'], ['bcqc', '48.19000', '-118.46000.txt', '-118.46000'], ['bcqc', '47.92000', '-112.79000.txt', '-112.79000'], ['bcqc', '47.88000', '-117.09000.txt', '-117.09000'], ['bcqc', '47.92000', '-112.82000.txt', '-112.82000'], ['bcqc', '47.99000', '-120.57000.txt', '-120.57000'], ['bcqc', '47.76000', '-123.03000.txt', '-123.03000'], ['bcqc', '47.87000', '-123.08000.txt', '-123.08000'], ['bcqc', '47.78000', '-121.70000.txt', '-121.70000'], ['bcqc', '47.94000', '-123.43000.txt', '-123.43000'], ['bcqc', '48.86000', '-121.44000.txt', '-121.44000'], ['bcqc', '48.86000', '-118.40000.txt', '-118.40000'], ['bcqc', '48.80000', '-113.86000.txt', '-113.86000'], ['bcqc', '48.80000', '-113.67000.txt', '-113.67000'], ['bcqc', '48.72000', '-120.66000.txt', '-120.66000'], ['bcqc', '48.69000', '-117.18000.txt', '-117.18000'], ['bcqc', '48.66000', '-119.84000.txt', '-119.84000'], ['bcqc', '48.69000', '-121.91000.txt', '-121.91000'], ['bcqc', '48.57000', '-115.45000.txt', '-115.45000'], ['bcqc', '48.82000', '-121.93000.txt', '-121.93000'], ['bcqc', '48.76000', '-121.70000.txt', '-121.70000'], ['bcqc', '48.72000', '-116.46000.txt', '-116.46000'], ['bcqc', '48.59000', '-119.87000.txt', '-119.87000'], ['bcqc', '48.43000', '-113.94000.txt', '-113.94000'], ['bcqc', '48.44000', '-120.92000.txt', '-120.92000'], ['bcqc', '48.31000', '-114.84000.txt', '-114.84000'], ['bcqc', '48.31000', '-116.07000.txt', '-116.07000'], ['bcqc', '48.52000', '-120.74000.txt', '-120.74000'], ['bcqc', '48.37000', '-116.64000.txt', '-116.64000'], ['bcqc', '48.53000', '-120.99000.txt', '-120.99000'], ['bcqc', '60.78000', '-149.18000.txt', '-149.18000'], ['bcqc', '61.07000', '-149.48000.txt', '-149.48000'], ['bcqc', '60.73000', '-150.48000.txt', '-150.48000'], ['bcqc', '60.61000', '-149.06000.txt', '-149.06000'], ['bcqc', '60.62000', '-149.53000.txt', '-149.53000'], ['bcqc', '48.98000', '-115.82000.txt', '-115.82000'], ['bcqc', '61.19000', '-145.65000.txt', '-145.65000'], ['bcqc', '61.35000', '-142.71000.txt', '-142.71000'], ['bcqc', '61.11000', '-149.67000.txt', '-149.67000'], ['bcqc', '60.98000', '-153.92000.txt', '-153.92000'], ['bcqc', '60.39000', '-149.69000.txt', '-149.69000'], ['bcqc', '59.86000', '-151.32000.txt', '-151.32000'], ['bcqc', '59.74000', '-151.25000.txt', '-151.25000'], ['bcqc', '58.19000', '-133.83000.txt', '-133.83000'], ['bcqc', '60.26000', '-149.34000.txt', '-149.34000'], ['bcqc', '60.55000', '-145.75000.txt', '-145.75000'], ['bcqc', '60.19000', '-149.62000.txt', '-149.62000'], ['bcqc', '59.35000', '-151.85000.txt', '-151.85000'], ['bcqc', '58.70000', '-134.86000.txt', '-134.86000'], ['bcqc', '48.97000', '-115.95000.txt', '-115.95000'], ['bcqc', '48.95000', '-118.99000.txt', '-118.99000'], ['bcqc', '48.93000', '-121.20000.txt', '-121.20000'], ['bcqc', '48.91000', '-114.86000.txt', '-114.86000'], ['bcqc', '48.91000', '-114.77000.txt', '-114.77000'], ['bcqc', '48.88000', '-121.26000.txt', '-121.26000'], ['bcqc', '48.87000', '-121.79000.txt', '-121.79000'], ['bcqc', '48.89000', '-116.76000.txt', '-116.76000'], ['bcqc', '67.93000', '-162.28000.txt', '-162.28000'], ['bcqc', '67.25000', '-150.18000.txt', '-150.18000'], ['bcqc', '65.25000', '-146.15000.txt', '-146.15000'], ['bcqc', '65.12000', '-146.73000.txt', '-146.73000'], ['bcqc', '65.08000', '-145.87000.txt', '-145.87000'], ['bcqc', '64.85000', '-147.80000.txt', '-147.80000'], ['bcqc', '64.95000', '-145.52000.txt', '-145.52000'], ['bcqc', '64.85000', '-146.21000.txt', '-146.21000'], ['bcqc', '65.37000', '-146.59000.txt', '-146.59000'], ['bcqc', '64.79000', '-141.23000.txt', '-141.23000'], ['bcqc', '65.10000', '-144.93000.txt', '-144.93000'], ['bcqc', '64.15000', '-141.33000.txt', '-141.33000'], ['bcqc', '63.54000', '-150.99000.txt', '-150.99000'], ['bcqc', '63.20000', '-145.63000.txt', '-145.63000'], ['bcqc', '62.63000', '-150.78000.txt', '-150.78000'], ['bcqc', '62.07000', '-142.05000.txt', '-142.05000'], ['bcqc', '63.94000', '-145.40000.txt', '-145.40000'], ['bcqc', '63.31000', '-147.65000.txt', '-147.65000'], ['bcqc', '62.13000', '-150.04000.txt', '-150.04000'], ['bcqc', '61.79000', '-149.28000.txt', '-149.28000'], ['bcqc', '61.75000', '-150.89000.txt', '-150.89000'], ['bcqc', '61.38000', '-149.00000.txt', '-149.00000'], ['bcqc', '60.96000', '-149.09000.txt', '-149.09000'], ['bcqc', '66.92000', '-151.53000.txt', '-151.53000']]\n",
            "38.68 38.68 -119.96 -119.96\n",
            "38.84 38.84 -119.89 -119.89\n",
            "38.72 38.72 -119.89 -119.89\n",
            "38.4 38.4 -119.54 -119.54\n",
            "38.69 38.69 -120.0 -120.0\n",
            "41.99 41.99 -120.72 -120.72\n",
            "40.69 40.69 -120.61 -120.61\n",
            "41.24 41.24 -120.79 -120.79\n",
            "38.61 38.61 -119.92 -119.92\n",
            "41.58 41.58 -120.3 -120.3\n",
            "39.33 39.33 -120.37 -120.37\n",
            "41.99 41.99 -120.18 -120.18\n",
            "38.55 38.55 -119.8 -119.8\n",
            "38.85 38.85 -120.08 -120.08\n",
            "38.93 38.93 -120.05 -120.05\n",
            "38.85 38.85 -119.94 -119.94\n",
            "38.92 38.92 -119.92 -119.92\n",
            "39.45 39.45 -120.29 -120.29\n",
            "39.49 39.49 -120.28 -120.28\n",
            "39.43 39.43 -120.31 -120.31\n",
            "38.28 38.28 -119.61 -119.61\n",
            "38.3 38.3 -119.55 -119.55\n",
            "38.44 38.44 -119.37 -119.37\n",
            "38.67 38.67 -119.61 -119.61\n",
            "38.51 38.51 -119.63 -119.63\n",
            "39.0 39.0 -120.13 -120.13\n",
            "38.31 38.31 -119.6 -119.6\n",
            "38.67 38.67 -119.82 -119.82\n",
            "39.19 39.19 -120.26 -120.26\n",
            "39.17 39.17 -120.15 -120.15\n",
            "39.3 39.3 -120.18 -120.18\n",
            "38.07 38.07 -119.23 -119.23\n",
            "39.14 39.14 -120.22 -120.22\n",
            "41.89 41.89 -120.75 -120.75\n",
            "[['bcqc', '38.68000', '-119.96000.txt', '-119.96000', 38.68, -119.96, 'CA', '9/30/2018', '9/21/2003', 'Forestdale Creek'], ['bcqc', '38.84000', '-119.89000.txt', '-119.89000', 38.84, -119.89, 'CA', '9/30/2018', '9/22/2003', 'Horse Meadow'], ['bcqc', '38.72000', '-119.89000.txt', '-119.89000', 38.72, -119.89, 'CA', '9/30/2018', '9/21/2003', 'Burnside Lake'], ['bcqc', '38.40000', '-119.54000.txt', '-119.54000', 38.4, -119.54, 'CA', '9/30/2018', '9/23/2003', 'Summit Meadow'], ['bcqc', '38.69000', '-120.00000.txt', '-120.00000', 38.69, -120.0, 'CA', '9/30/2018', '9/23/2004', 'Carson Pass'], ['bcqc', '41.99000', '-120.72000.txt', '-120.72000', 41.99, -120.72, 'CA', '9/30/2018', '6/20/2014', 'State Line'], ['bcqc', '40.69000', '-120.61000.txt', '-120.61000', 40.69, -120.61, 'CA', '9/30/2018', '11/9/2016', 'Fredonyer Peak'], ['bcqc', '41.24000', '-120.79000.txt', '-120.79000', 41.24, -120.79, 'CA', '9/30/2018', '9/13/1984', 'Adin Mtn'], ['bcqc', '38.61000', '-119.92000.txt', '-119.92000', 38.61, -119.92, 'CA', '9/30/2018', '7/9/1980', 'Blue Lakes'], ['bcqc', '41.58000', '-120.30000.txt', '-120.30000', 41.58, -120.3, 'CA', '9/30/2018', '10/1/1978', 'Cedar Pass'], ['bcqc', '39.33000', '-120.37000.txt', '-120.37000', 39.33, -120.37, 'CA', '9/30/2018', '5/10/1983', 'Css Lab'], ['bcqc', '41.99000', '-120.18000.txt', '-120.18000', 41.99, -120.18, 'CA', '9/30/2018', '10/1/1980', 'Dismal Swamp'], ['bcqc', '38.55000', '-119.80000.txt', '-119.80000', 38.55, -119.8, 'CA', '9/30/2018', '10/1/1978', 'Ebbetts Pass'], ['bcqc', '38.85000', '-120.08000.txt', '-120.08000', 38.85, -120.08, 'CA', '9/30/2018', '6/25/1980', 'Echo Peak'], ['bcqc', '38.93000', '-120.05000.txt', '-120.05000', 38.93, -120.05, 'CA', '9/30/2018', '10/1/1978', 'Fallen Leaf'], ['bcqc', '38.85000', '-119.94000.txt', '-119.94000', 38.85, -119.94, 'CA', '9/30/2018', '10/1/1978', 'Hagans Meadow'], ['bcqc', '38.92000', '-119.92000.txt', '-119.92000', 38.92, -119.92, 'CA', '9/30/2018', '10/1/1978', 'Heavenly Valley'], ['bcqc', '39.45000', '-120.29000.txt', '-120.29000', 39.45, -120.29, 'CA', '9/30/2018', '9/30/1978', 'Independence Camp'], ['bcqc', '39.49000', '-120.28000.txt', '-120.28000', 39.49, -120.28, 'CA', '9/30/2018', '10/1/1980', 'Independence Creek'], ['bcqc', '39.43000', '-120.31000.txt', '-120.31000', 39.43, -120.31, 'CA', '9/30/2018', '10/1/1978', 'Independence Lake'], ['bcqc', '38.28000', '-119.61000.txt', '-119.61000', 38.28, -119.61, 'CA', '9/30/2018', '8/16/1989', 'Leavitt Lake'], ['bcqc', '38.30000', '-119.55000.txt', '-119.55000', 38.3, -119.55, 'CA', '9/30/2018', '10/1/1980', 'Leavitt Meadows'], ['bcqc', '38.44000', '-119.37000.txt', '-119.37000', 38.44, -119.37, 'CA', '9/30/2018', '10/1/1978', 'Lobdell Lake'], ['bcqc', '38.67000', '-119.61000.txt', '-119.61000', 38.67, -119.61, 'CA', '9/30/2018', '8/1/1990', 'Monitor Pass'], ['bcqc', '38.51000', '-119.63000.txt', '-119.63000', 38.51, -119.63, 'CA', '9/30/2018', '10/1/1980', 'Poison Flat'], ['bcqc', '39.00000', '-120.13000.txt', '-120.13000', 39.0, -120.13, 'CA', '9/30/2018', '10/1/1980', 'Rubicon #2'], ['bcqc', '38.31000', '-119.60000.txt', '-119.60000', 38.31, -119.6, 'CA', '9/30/2018', '9/30/1978', 'Sonora Pass'], ['bcqc', '38.67000', '-119.82000.txt', '-119.82000', 38.67, -119.82, 'CA', '9/30/2018', '10/1/1980', 'Spratt Creek'], ['bcqc', '39.19000', '-120.26000.txt', '-120.26000', 39.19, -120.26, 'CA', '9/30/2018', '10/1/1980', 'Squaw Valley G.C.'], ['bcqc', '39.17000', '-120.15000.txt', '-120.15000', 39.17, -120.15, 'CA', '9/30/2018', '10/1/1980', 'Tahoe City Cross'], ['bcqc', '39.30000', '-120.18000.txt', '-120.18000', 39.3, -120.18, 'CA', '9/30/2018', '10/1/1980', 'Truckee #2'], ['bcqc', '38.07000', '-119.23000.txt', '-119.23000', 38.07, -119.23, 'CA', '9/30/2018', '9/30/1978', 'Virginia Lakes Ridge'], ['bcqc', '39.14000', '-120.22000.txt', '-120.22000', 39.14, -120.22, 'CA', '9/30/2018', '10/1/1979', 'Ward Creek #3'], ['bcqc', '41.89000', '-120.75000.txt', '-120.75000', 41.89, -120.75, 'CA', '9/30/2018', '10/1/1999', 'Crowder Flat']]\n",
            "2003 9 22  nan 76.73 45.83 59.22  nan 38.68 -119.96 CA 9/30/2018 9/21/2003 Forestdale Creek\n"
          ]
        }
      ]
    },
    {
      "cell_type": "code",
      "source": [
        "#writing the file in drive\n",
        "textfile = open(\"/gdrive/My Drive/CEE 415or599 Machine learning/project/snow.txt\", \"w\")\n",
        "for element in fm4:\n",
        "    textfile.write(element + \"\\n\")\n",
        "textfile.close()\n",
        "\n"
      ],
      "metadata": {
        "id": "bAO5R9VpTrVe"
      },
      "execution_count": null,
      "outputs": []
    }
  ]
}